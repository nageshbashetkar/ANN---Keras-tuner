{
 "cells": [
  {
   "cell_type": "markdown",
   "metadata": {},
   "source": [
    "# ANN Regression Model with Keras Tuner - Walmart Dataset"
   ]
  },
  {
   "cell_type": "markdown",
   "metadata": {
    "id": "CsBMq5TiZMbN"
   },
   "source": [
    "## Table of Contents\n",
    "\n",
    "1. [Importing Libraries](#section1)\n",
    "2. [Data Preparation](#section2)\n",
    "    - 2.1 [Load and explore the dataset](#section201)<br>\n",
    "    - 2.2 [Splitting X and Y into training and test dataset](#section202)<br>\n",
    "    - 2.3 [Feature scaling](#section203)<br>\n",
    "3. [Creating a base model](#section4)<br>\n",
    "    - 3.1 [With the random choice of layers and neurons](#section301)<br>\n",
    "    - 3.2 [Test and evaluate the test data](#section302)<br>\n",
    "    - 3.3 [Finding MSE and RMSE](#section303)<br>\n",
    "4. [Using Keras Tuner](#section4)<br>\n",
    "    - 4.1 [Define a function that creates and returns a Keras model.](#section401)<br>\n",
    "    - 4.2 [Searching for the best model](#section402)<br>\n",
    "    - 4.3 [Get the result summary and replicate it in the next model](#section403)<br>\n",
    "5. [Create a tuned model](#section5)<br>\n",
    "    - 5.1 [Replicate the best result of the `RandomSearch()` in the last process.](#section501)<br>\n",
    "    - 5.2 [Test and evaluate it on the test data](#section502)<br>\n",
    "    - 5.3 [Plot the history of the tuned model](#section503)<br>\n",
    "6. [Create a callback](#section6)<br>\n",
    "    - 6.1 [Create a `EarlyStopping()`callback](#section601)<br>\n",
    "    - 6.2 [Compile the same model and fit it with the callback](#section602)<br>\n",
    "    - 6.3 [Evaluate and test it again on the test data](#section603)<br>\n",
    "7. [Conclusion](#section6)<br>"
   ]
  },
  {
   "cell_type": "markdown",
   "metadata": {},
   "source": [
    "# 1.Importing Libraries"
   ]
  },
  {
   "cell_type": "code",
   "execution_count": null,
   "metadata": {
    "execution": {
     "iopub.execute_input": "2023-02-04T13:19:16.143419Z",
     "iopub.status.busy": "2023-02-04T13:19:16.143042Z",
     "iopub.status.idle": "2023-02-04T13:19:16.147834Z",
     "shell.execute_reply": "2023-02-04T13:19:16.146956Z",
     "shell.execute_reply.started": "2023-02-04T13:19:16.143388Z"
    },
    "id": "rg53GR1vZMbS"
   },
   "outputs": [],
   "source": [
    "import numpy as np\n",
    "import pandas as pd\n",
    "import tensorflow as tf\n",
    "import matplotlib.pyplot as plt\n",
    "import seaborn as sns"
   ]
  },
  {
   "cell_type": "markdown",
   "metadata": {
    "id": "TL8A1niWZMbT"
   },
   "source": [
    "# 2.Data Preparation"
   ]
  },
  {
   "cell_type": "markdown",
   "metadata": {},
   "source": [
    "### 2.1 Load and Explore Dataset"
   ]
  },
  {
   "cell_type": "code",
   "execution_count": 2,
   "metadata": {
    "execution": {
     "iopub.execute_input": "2023-02-04T13:19:18.786800Z",
     "iopub.status.busy": "2023-02-04T13:19:18.786445Z",
     "iopub.status.idle": "2023-02-04T13:19:18.835203Z",
     "shell.execute_reply": "2023-02-04T13:19:18.833723Z",
     "shell.execute_reply.started": "2023-02-04T13:19:18.786771Z"
    },
    "id": "60ZuoylkZMbU"
   },
   "outputs": [],
   "source": [
    "# Load the data\n",
    "df = pd.read_csv('Walmart.csv')\n"
   ]
  },
  {
   "cell_type": "code",
   "execution_count": 3,
   "metadata": {
    "colab": {
     "base_uri": "https://localhost:8080/",
     "height": 400
    },
    "id": "fJOEC2X-auLW",
    "outputId": "fad6cd65-0398-44a4-a982-7a0be990c0fe"
   },
   "outputs": [
    {
     "data": {
      "text/html": [
       "\n",
       "  <div id=\"df-3fffce2f-45b6-4aa9-8881-915286e2d6b0\" class=\"colab-df-container\">\n",
       "    <div>\n",
       "<style scoped>\n",
       "    .dataframe tbody tr th:only-of-type {\n",
       "        vertical-align: middle;\n",
       "    }\n",
       "\n",
       "    .dataframe tbody tr th {\n",
       "        vertical-align: top;\n",
       "    }\n",
       "\n",
       "    .dataframe thead th {\n",
       "        text-align: right;\n",
       "    }\n",
       "</style>\n",
       "<table border=\"1\" class=\"dataframe\">\n",
       "  <thead>\n",
       "    <tr style=\"text-align: right;\">\n",
       "      <th></th>\n",
       "      <th>Store</th>\n",
       "      <th>Date</th>\n",
       "      <th>Weekly_Sales</th>\n",
       "      <th>Holiday_Flag</th>\n",
       "      <th>Temperature</th>\n",
       "      <th>Fuel_Price</th>\n",
       "      <th>CPI</th>\n",
       "      <th>Unemployment</th>\n",
       "    </tr>\n",
       "  </thead>\n",
       "  <tbody>\n",
       "    <tr>\n",
       "      <th>0</th>\n",
       "      <td>1</td>\n",
       "      <td>05-02-2010</td>\n",
       "      <td>1643690.90</td>\n",
       "      <td>0</td>\n",
       "      <td>42.31</td>\n",
       "      <td>2.572</td>\n",
       "      <td>211.096358</td>\n",
       "      <td>8.106</td>\n",
       "    </tr>\n",
       "    <tr>\n",
       "      <th>1</th>\n",
       "      <td>1</td>\n",
       "      <td>12-02-2010</td>\n",
       "      <td>1641957.44</td>\n",
       "      <td>1</td>\n",
       "      <td>38.51</td>\n",
       "      <td>2.548</td>\n",
       "      <td>211.242170</td>\n",
       "      <td>8.106</td>\n",
       "    </tr>\n",
       "    <tr>\n",
       "      <th>2</th>\n",
       "      <td>1</td>\n",
       "      <td>19-02-2010</td>\n",
       "      <td>1611968.17</td>\n",
       "      <td>0</td>\n",
       "      <td>39.93</td>\n",
       "      <td>2.514</td>\n",
       "      <td>211.289143</td>\n",
       "      <td>8.106</td>\n",
       "    </tr>\n",
       "    <tr>\n",
       "      <th>3</th>\n",
       "      <td>1</td>\n",
       "      <td>26-02-2010</td>\n",
       "      <td>1409727.59</td>\n",
       "      <td>0</td>\n",
       "      <td>46.63</td>\n",
       "      <td>2.561</td>\n",
       "      <td>211.319643</td>\n",
       "      <td>8.106</td>\n",
       "    </tr>\n",
       "    <tr>\n",
       "      <th>4</th>\n",
       "      <td>1</td>\n",
       "      <td>05-03-2010</td>\n",
       "      <td>1554806.68</td>\n",
       "      <td>0</td>\n",
       "      <td>46.50</td>\n",
       "      <td>2.625</td>\n",
       "      <td>211.350143</td>\n",
       "      <td>8.106</td>\n",
       "    </tr>\n",
       "  </tbody>\n",
       "</table>\n",
       "</div>\n",
       "    <div class=\"colab-df-buttons\">\n",
       "\n",
       "  <div class=\"colab-df-container\">\n",
       "    <button class=\"colab-df-convert\" onclick=\"convertToInteractive('df-3fffce2f-45b6-4aa9-8881-915286e2d6b0')\"\n",
       "            title=\"Convert this dataframe to an interactive table.\"\n",
       "            style=\"display:none;\">\n",
       "\n",
       "  <svg xmlns=\"http://www.w3.org/2000/svg\" height=\"24px\" viewBox=\"0 -960 960 960\">\n",
       "    <path d=\"M120-120v-720h720v720H120Zm60-500h600v-160H180v160Zm220 220h160v-160H400v160Zm0 220h160v-160H400v160ZM180-400h160v-160H180v160Zm440 0h160v-160H620v160ZM180-180h160v-160H180v160Zm440 0h160v-160H620v160Z\"/>\n",
       "  </svg>\n",
       "    </button>\n",
       "\n",
       "  <style>\n",
       "    .colab-df-container {\n",
       "      display:flex;\n",
       "      gap: 12px;\n",
       "    }\n",
       "\n",
       "    .colab-df-convert {\n",
       "      background-color: #E8F0FE;\n",
       "      border: none;\n",
       "      border-radius: 50%;\n",
       "      cursor: pointer;\n",
       "      display: none;\n",
       "      fill: #1967D2;\n",
       "      height: 32px;\n",
       "      padding: 0 0 0 0;\n",
       "      width: 32px;\n",
       "    }\n",
       "\n",
       "    .colab-df-convert:hover {\n",
       "      background-color: #E2EBFA;\n",
       "      box-shadow: 0px 1px 2px rgba(60, 64, 67, 0.3), 0px 1px 3px 1px rgba(60, 64, 67, 0.15);\n",
       "      fill: #174EA6;\n",
       "    }\n",
       "\n",
       "    .colab-df-buttons div {\n",
       "      margin-bottom: 4px;\n",
       "    }\n",
       "\n",
       "    [theme=dark] .colab-df-convert {\n",
       "      background-color: #3B4455;\n",
       "      fill: #D2E3FC;\n",
       "    }\n",
       "\n",
       "    [theme=dark] .colab-df-convert:hover {\n",
       "      background-color: #434B5C;\n",
       "      box-shadow: 0px 1px 3px 1px rgba(0, 0, 0, 0.15);\n",
       "      filter: drop-shadow(0px 1px 2px rgba(0, 0, 0, 0.3));\n",
       "      fill: #FFFFFF;\n",
       "    }\n",
       "  </style>\n",
       "\n",
       "    <script>\n",
       "      const buttonEl =\n",
       "        document.querySelector('#df-3fffce2f-45b6-4aa9-8881-915286e2d6b0 button.colab-df-convert');\n",
       "      buttonEl.style.display =\n",
       "        google.colab.kernel.accessAllowed ? 'block' : 'none';\n",
       "\n",
       "      async function convertToInteractive(key) {\n",
       "        const element = document.querySelector('#df-3fffce2f-45b6-4aa9-8881-915286e2d6b0');\n",
       "        const dataTable =\n",
       "          await google.colab.kernel.invokeFunction('convertToInteractive',\n",
       "                                                    [key], {});\n",
       "        if (!dataTable) return;\n",
       "\n",
       "        const docLinkHtml = 'Like what you see? Visit the ' +\n",
       "          '<a target=\"_blank\" href=https://colab.research.google.com/notebooks/data_table.ipynb>data table notebook</a>'\n",
       "          + ' to learn more about interactive tables.';\n",
       "        element.innerHTML = '';\n",
       "        dataTable['output_type'] = 'display_data';\n",
       "        await google.colab.output.renderOutput(dataTable, element);\n",
       "        const docLink = document.createElement('div');\n",
       "        docLink.innerHTML = docLinkHtml;\n",
       "        element.appendChild(docLink);\n",
       "      }\n",
       "    </script>\n",
       "  </div>\n",
       "\n",
       "\n",
       "<div id=\"df-afd58ea2-19ab-4914-8c46-c11862e09c26\">\n",
       "  <button class=\"colab-df-quickchart\" onclick=\"quickchart('df-afd58ea2-19ab-4914-8c46-c11862e09c26')\"\n",
       "            title=\"Suggest charts\"\n",
       "            style=\"display:none;\">\n",
       "\n",
       "<svg xmlns=\"http://www.w3.org/2000/svg\" height=\"24px\"viewBox=\"0 0 24 24\"\n",
       "     width=\"24px\">\n",
       "    <g>\n",
       "        <path d=\"M19 3H5c-1.1 0-2 .9-2 2v14c0 1.1.9 2 2 2h14c1.1 0 2-.9 2-2V5c0-1.1-.9-2-2-2zM9 17H7v-7h2v7zm4 0h-2V7h2v10zm4 0h-2v-4h2v4z\"/>\n",
       "    </g>\n",
       "</svg>\n",
       "  </button>\n",
       "\n",
       "<style>\n",
       "  .colab-df-quickchart {\n",
       "      --bg-color: #E8F0FE;\n",
       "      --fill-color: #1967D2;\n",
       "      --hover-bg-color: #E2EBFA;\n",
       "      --hover-fill-color: #174EA6;\n",
       "      --disabled-fill-color: #AAA;\n",
       "      --disabled-bg-color: #DDD;\n",
       "  }\n",
       "\n",
       "  [theme=dark] .colab-df-quickchart {\n",
       "      --bg-color: #3B4455;\n",
       "      --fill-color: #D2E3FC;\n",
       "      --hover-bg-color: #434B5C;\n",
       "      --hover-fill-color: #FFFFFF;\n",
       "      --disabled-bg-color: #3B4455;\n",
       "      --disabled-fill-color: #666;\n",
       "  }\n",
       "\n",
       "  .colab-df-quickchart {\n",
       "    background-color: var(--bg-color);\n",
       "    border: none;\n",
       "    border-radius: 50%;\n",
       "    cursor: pointer;\n",
       "    display: none;\n",
       "    fill: var(--fill-color);\n",
       "    height: 32px;\n",
       "    padding: 0;\n",
       "    width: 32px;\n",
       "  }\n",
       "\n",
       "  .colab-df-quickchart:hover {\n",
       "    background-color: var(--hover-bg-color);\n",
       "    box-shadow: 0 1px 2px rgba(60, 64, 67, 0.3), 0 1px 3px 1px rgba(60, 64, 67, 0.15);\n",
       "    fill: var(--button-hover-fill-color);\n",
       "  }\n",
       "\n",
       "  .colab-df-quickchart-complete:disabled,\n",
       "  .colab-df-quickchart-complete:disabled:hover {\n",
       "    background-color: var(--disabled-bg-color);\n",
       "    fill: var(--disabled-fill-color);\n",
       "    box-shadow: none;\n",
       "  }\n",
       "\n",
       "  .colab-df-spinner {\n",
       "    border: 2px solid var(--fill-color);\n",
       "    border-color: transparent;\n",
       "    border-bottom-color: var(--fill-color);\n",
       "    animation:\n",
       "      spin 1s steps(1) infinite;\n",
       "  }\n",
       "\n",
       "  @keyframes spin {\n",
       "    0% {\n",
       "      border-color: transparent;\n",
       "      border-bottom-color: var(--fill-color);\n",
       "      border-left-color: var(--fill-color);\n",
       "    }\n",
       "    20% {\n",
       "      border-color: transparent;\n",
       "      border-left-color: var(--fill-color);\n",
       "      border-top-color: var(--fill-color);\n",
       "    }\n",
       "    30% {\n",
       "      border-color: transparent;\n",
       "      border-left-color: var(--fill-color);\n",
       "      border-top-color: var(--fill-color);\n",
       "      border-right-color: var(--fill-color);\n",
       "    }\n",
       "    40% {\n",
       "      border-color: transparent;\n",
       "      border-right-color: var(--fill-color);\n",
       "      border-top-color: var(--fill-color);\n",
       "    }\n",
       "    60% {\n",
       "      border-color: transparent;\n",
       "      border-right-color: var(--fill-color);\n",
       "    }\n",
       "    80% {\n",
       "      border-color: transparent;\n",
       "      border-right-color: var(--fill-color);\n",
       "      border-bottom-color: var(--fill-color);\n",
       "    }\n",
       "    90% {\n",
       "      border-color: transparent;\n",
       "      border-bottom-color: var(--fill-color);\n",
       "    }\n",
       "  }\n",
       "</style>\n",
       "\n",
       "  <script>\n",
       "    async function quickchart(key) {\n",
       "      const quickchartButtonEl =\n",
       "        document.querySelector('#' + key + ' button');\n",
       "      quickchartButtonEl.disabled = true;  // To prevent multiple clicks.\n",
       "      quickchartButtonEl.classList.add('colab-df-spinner');\n",
       "      try {\n",
       "        const charts = await google.colab.kernel.invokeFunction(\n",
       "            'suggestCharts', [key], {});\n",
       "      } catch (error) {\n",
       "        console.error('Error during call to suggestCharts:', error);\n",
       "      }\n",
       "      quickchartButtonEl.classList.remove('colab-df-spinner');\n",
       "      quickchartButtonEl.classList.add('colab-df-quickchart-complete');\n",
       "    }\n",
       "    (() => {\n",
       "      let quickchartButtonEl =\n",
       "        document.querySelector('#df-afd58ea2-19ab-4914-8c46-c11862e09c26 button');\n",
       "      quickchartButtonEl.style.display =\n",
       "        google.colab.kernel.accessAllowed ? 'block' : 'none';\n",
       "    })();\n",
       "  </script>\n",
       "</div>\n",
       "    </div>\n",
       "  </div>\n"
      ],
      "text/plain": [
       "   Store        Date  Weekly_Sales  Holiday_Flag  Temperature  Fuel_Price  \\\n",
       "0      1  05-02-2010    1643690.90             0        42.31       2.572   \n",
       "1      1  12-02-2010    1641957.44             1        38.51       2.548   \n",
       "2      1  19-02-2010    1611968.17             0        39.93       2.514   \n",
       "3      1  26-02-2010    1409727.59             0        46.63       2.561   \n",
       "4      1  05-03-2010    1554806.68             0        46.50       2.625   \n",
       "\n",
       "          CPI  Unemployment  \n",
       "0  211.096358         8.106  \n",
       "1  211.242170         8.106  \n",
       "2  211.289143         8.106  \n",
       "3  211.319643         8.106  \n",
       "4  211.350143         8.106  "
      ]
     },
     "execution_count": 3,
     "metadata": {},
     "output_type": "execute_result"
    }
   ],
   "source": [
    "df.head()"
   ]
  },
  {
   "cell_type": "code",
   "execution_count": 4,
   "metadata": {
    "colab": {
     "base_uri": "https://localhost:8080/"
    },
    "execution": {
     "iopub.execute_input": "2023-02-04T13:19:26.979048Z",
     "iopub.status.busy": "2023-02-04T13:19:26.978624Z",
     "iopub.status.idle": "2023-02-04T13:19:27.008628Z",
     "shell.execute_reply": "2023-02-04T13:19:27.006582Z",
     "shell.execute_reply.started": "2023-02-04T13:19:26.979015Z"
    },
    "id": "PDEhmPvhZMbW",
    "outputId": "672eeabf-7153-4bd8-a70f-733806bad203"
   },
   "outputs": [
    {
     "name": "stdout",
     "output_type": "stream",
     "text": [
      "<class 'pandas.core.frame.DataFrame'>\n",
      "RangeIndex: 6435 entries, 0 to 6434\n",
      "Data columns (total 8 columns):\n",
      " #   Column        Non-Null Count  Dtype  \n",
      "---  ------        --------------  -----  \n",
      " 0   Store         6435 non-null   int64  \n",
      " 1   Date          6435 non-null   object \n",
      " 2   Weekly_Sales  6435 non-null   float64\n",
      " 3   Holiday_Flag  6435 non-null   int64  \n",
      " 4   Temperature   6435 non-null   float64\n",
      " 5   Fuel_Price    6435 non-null   float64\n",
      " 6   CPI           6435 non-null   float64\n",
      " 7   Unemployment  6435 non-null   float64\n",
      "dtypes: float64(5), int64(2), object(1)\n",
      "memory usage: 402.3+ KB\n"
     ]
    }
   ],
   "source": [
    "df.info()"
   ]
  },
  {
   "cell_type": "code",
   "execution_count": 5,
   "metadata": {
    "colab": {
     "base_uri": "https://localhost:8080/",
     "height": 320
    },
    "execution": {
     "iopub.execute_input": "2023-02-04T13:19:31.230959Z",
     "iopub.status.busy": "2023-02-04T13:19:31.230573Z",
     "iopub.status.idle": "2023-02-04T13:19:31.265071Z",
     "shell.execute_reply": "2023-02-04T13:19:31.263743Z",
     "shell.execute_reply.started": "2023-02-04T13:19:31.230931Z"
    },
    "id": "kNnSZGslZMbY",
    "outputId": "f8eeb593-d379-47f2-8c32-08251631e824"
   },
   "outputs": [
    {
     "data": {
      "text/html": [
       "\n",
       "  <div id=\"df-27735092-17cf-4114-b927-9c05406393a7\" class=\"colab-df-container\">\n",
       "    <div>\n",
       "<style scoped>\n",
       "    .dataframe tbody tr th:only-of-type {\n",
       "        vertical-align: middle;\n",
       "    }\n",
       "\n",
       "    .dataframe tbody tr th {\n",
       "        vertical-align: top;\n",
       "    }\n",
       "\n",
       "    .dataframe thead th {\n",
       "        text-align: right;\n",
       "    }\n",
       "</style>\n",
       "<table border=\"1\" class=\"dataframe\">\n",
       "  <thead>\n",
       "    <tr style=\"text-align: right;\">\n",
       "      <th></th>\n",
       "      <th>Store</th>\n",
       "      <th>Weekly_Sales</th>\n",
       "      <th>Holiday_Flag</th>\n",
       "      <th>Temperature</th>\n",
       "      <th>Fuel_Price</th>\n",
       "      <th>CPI</th>\n",
       "      <th>Unemployment</th>\n",
       "    </tr>\n",
       "  </thead>\n",
       "  <tbody>\n",
       "    <tr>\n",
       "      <th>count</th>\n",
       "      <td>6435.000000</td>\n",
       "      <td>6.435000e+03</td>\n",
       "      <td>6435.000000</td>\n",
       "      <td>6435.000000</td>\n",
       "      <td>6435.000000</td>\n",
       "      <td>6435.000000</td>\n",
       "      <td>6435.000000</td>\n",
       "    </tr>\n",
       "    <tr>\n",
       "      <th>mean</th>\n",
       "      <td>23.000000</td>\n",
       "      <td>1.046965e+06</td>\n",
       "      <td>0.069930</td>\n",
       "      <td>60.663782</td>\n",
       "      <td>3.358607</td>\n",
       "      <td>171.578394</td>\n",
       "      <td>7.999151</td>\n",
       "    </tr>\n",
       "    <tr>\n",
       "      <th>std</th>\n",
       "      <td>12.988182</td>\n",
       "      <td>5.643666e+05</td>\n",
       "      <td>0.255049</td>\n",
       "      <td>18.444933</td>\n",
       "      <td>0.459020</td>\n",
       "      <td>39.356712</td>\n",
       "      <td>1.875885</td>\n",
       "    </tr>\n",
       "    <tr>\n",
       "      <th>min</th>\n",
       "      <td>1.000000</td>\n",
       "      <td>2.099862e+05</td>\n",
       "      <td>0.000000</td>\n",
       "      <td>-2.060000</td>\n",
       "      <td>2.472000</td>\n",
       "      <td>126.064000</td>\n",
       "      <td>3.879000</td>\n",
       "    </tr>\n",
       "    <tr>\n",
       "      <th>25%</th>\n",
       "      <td>12.000000</td>\n",
       "      <td>5.533501e+05</td>\n",
       "      <td>0.000000</td>\n",
       "      <td>47.460000</td>\n",
       "      <td>2.933000</td>\n",
       "      <td>131.735000</td>\n",
       "      <td>6.891000</td>\n",
       "    </tr>\n",
       "    <tr>\n",
       "      <th>50%</th>\n",
       "      <td>23.000000</td>\n",
       "      <td>9.607460e+05</td>\n",
       "      <td>0.000000</td>\n",
       "      <td>62.670000</td>\n",
       "      <td>3.445000</td>\n",
       "      <td>182.616521</td>\n",
       "      <td>7.874000</td>\n",
       "    </tr>\n",
       "    <tr>\n",
       "      <th>75%</th>\n",
       "      <td>34.000000</td>\n",
       "      <td>1.420159e+06</td>\n",
       "      <td>0.000000</td>\n",
       "      <td>74.940000</td>\n",
       "      <td>3.735000</td>\n",
       "      <td>212.743293</td>\n",
       "      <td>8.622000</td>\n",
       "    </tr>\n",
       "    <tr>\n",
       "      <th>max</th>\n",
       "      <td>45.000000</td>\n",
       "      <td>3.818686e+06</td>\n",
       "      <td>1.000000</td>\n",
       "      <td>100.140000</td>\n",
       "      <td>4.468000</td>\n",
       "      <td>227.232807</td>\n",
       "      <td>14.313000</td>\n",
       "    </tr>\n",
       "  </tbody>\n",
       "</table>\n",
       "</div>\n",
       "    <div class=\"colab-df-buttons\">\n",
       "\n",
       "  <div class=\"colab-df-container\">\n",
       "    <button class=\"colab-df-convert\" onclick=\"convertToInteractive('df-27735092-17cf-4114-b927-9c05406393a7')\"\n",
       "            title=\"Convert this dataframe to an interactive table.\"\n",
       "            style=\"display:none;\">\n",
       "\n",
       "  <svg xmlns=\"http://www.w3.org/2000/svg\" height=\"24px\" viewBox=\"0 -960 960 960\">\n",
       "    <path d=\"M120-120v-720h720v720H120Zm60-500h600v-160H180v160Zm220 220h160v-160H400v160Zm0 220h160v-160H400v160ZM180-400h160v-160H180v160Zm440 0h160v-160H620v160ZM180-180h160v-160H180v160Zm440 0h160v-160H620v160Z\"/>\n",
       "  </svg>\n",
       "    </button>\n",
       "\n",
       "  <style>\n",
       "    .colab-df-container {\n",
       "      display:flex;\n",
       "      gap: 12px;\n",
       "    }\n",
       "\n",
       "    .colab-df-convert {\n",
       "      background-color: #E8F0FE;\n",
       "      border: none;\n",
       "      border-radius: 50%;\n",
       "      cursor: pointer;\n",
       "      display: none;\n",
       "      fill: #1967D2;\n",
       "      height: 32px;\n",
       "      padding: 0 0 0 0;\n",
       "      width: 32px;\n",
       "    }\n",
       "\n",
       "    .colab-df-convert:hover {\n",
       "      background-color: #E2EBFA;\n",
       "      box-shadow: 0px 1px 2px rgba(60, 64, 67, 0.3), 0px 1px 3px 1px rgba(60, 64, 67, 0.15);\n",
       "      fill: #174EA6;\n",
       "    }\n",
       "\n",
       "    .colab-df-buttons div {\n",
       "      margin-bottom: 4px;\n",
       "    }\n",
       "\n",
       "    [theme=dark] .colab-df-convert {\n",
       "      background-color: #3B4455;\n",
       "      fill: #D2E3FC;\n",
       "    }\n",
       "\n",
       "    [theme=dark] .colab-df-convert:hover {\n",
       "      background-color: #434B5C;\n",
       "      box-shadow: 0px 1px 3px 1px rgba(0, 0, 0, 0.15);\n",
       "      filter: drop-shadow(0px 1px 2px rgba(0, 0, 0, 0.3));\n",
       "      fill: #FFFFFF;\n",
       "    }\n",
       "  </style>\n",
       "\n",
       "    <script>\n",
       "      const buttonEl =\n",
       "        document.querySelector('#df-27735092-17cf-4114-b927-9c05406393a7 button.colab-df-convert');\n",
       "      buttonEl.style.display =\n",
       "        google.colab.kernel.accessAllowed ? 'block' : 'none';\n",
       "\n",
       "      async function convertToInteractive(key) {\n",
       "        const element = document.querySelector('#df-27735092-17cf-4114-b927-9c05406393a7');\n",
       "        const dataTable =\n",
       "          await google.colab.kernel.invokeFunction('convertToInteractive',\n",
       "                                                    [key], {});\n",
       "        if (!dataTable) return;\n",
       "\n",
       "        const docLinkHtml = 'Like what you see? Visit the ' +\n",
       "          '<a target=\"_blank\" href=https://colab.research.google.com/notebooks/data_table.ipynb>data table notebook</a>'\n",
       "          + ' to learn more about interactive tables.';\n",
       "        element.innerHTML = '';\n",
       "        dataTable['output_type'] = 'display_data';\n",
       "        await google.colab.output.renderOutput(dataTable, element);\n",
       "        const docLink = document.createElement('div');\n",
       "        docLink.innerHTML = docLinkHtml;\n",
       "        element.appendChild(docLink);\n",
       "      }\n",
       "    </script>\n",
       "  </div>\n",
       "\n",
       "\n",
       "<div id=\"df-0187b404-0d48-49ca-af27-9edb8a203cce\">\n",
       "  <button class=\"colab-df-quickchart\" onclick=\"quickchart('df-0187b404-0d48-49ca-af27-9edb8a203cce')\"\n",
       "            title=\"Suggest charts\"\n",
       "            style=\"display:none;\">\n",
       "\n",
       "<svg xmlns=\"http://www.w3.org/2000/svg\" height=\"24px\"viewBox=\"0 0 24 24\"\n",
       "     width=\"24px\">\n",
       "    <g>\n",
       "        <path d=\"M19 3H5c-1.1 0-2 .9-2 2v14c0 1.1.9 2 2 2h14c1.1 0 2-.9 2-2V5c0-1.1-.9-2-2-2zM9 17H7v-7h2v7zm4 0h-2V7h2v10zm4 0h-2v-4h2v4z\"/>\n",
       "    </g>\n",
       "</svg>\n",
       "  </button>\n",
       "\n",
       "<style>\n",
       "  .colab-df-quickchart {\n",
       "      --bg-color: #E8F0FE;\n",
       "      --fill-color: #1967D2;\n",
       "      --hover-bg-color: #E2EBFA;\n",
       "      --hover-fill-color: #174EA6;\n",
       "      --disabled-fill-color: #AAA;\n",
       "      --disabled-bg-color: #DDD;\n",
       "  }\n",
       "\n",
       "  [theme=dark] .colab-df-quickchart {\n",
       "      --bg-color: #3B4455;\n",
       "      --fill-color: #D2E3FC;\n",
       "      --hover-bg-color: #434B5C;\n",
       "      --hover-fill-color: #FFFFFF;\n",
       "      --disabled-bg-color: #3B4455;\n",
       "      --disabled-fill-color: #666;\n",
       "  }\n",
       "\n",
       "  .colab-df-quickchart {\n",
       "    background-color: var(--bg-color);\n",
       "    border: none;\n",
       "    border-radius: 50%;\n",
       "    cursor: pointer;\n",
       "    display: none;\n",
       "    fill: var(--fill-color);\n",
       "    height: 32px;\n",
       "    padding: 0;\n",
       "    width: 32px;\n",
       "  }\n",
       "\n",
       "  .colab-df-quickchart:hover {\n",
       "    background-color: var(--hover-bg-color);\n",
       "    box-shadow: 0 1px 2px rgba(60, 64, 67, 0.3), 0 1px 3px 1px rgba(60, 64, 67, 0.15);\n",
       "    fill: var(--button-hover-fill-color);\n",
       "  }\n",
       "\n",
       "  .colab-df-quickchart-complete:disabled,\n",
       "  .colab-df-quickchart-complete:disabled:hover {\n",
       "    background-color: var(--disabled-bg-color);\n",
       "    fill: var(--disabled-fill-color);\n",
       "    box-shadow: none;\n",
       "  }\n",
       "\n",
       "  .colab-df-spinner {\n",
       "    border: 2px solid var(--fill-color);\n",
       "    border-color: transparent;\n",
       "    border-bottom-color: var(--fill-color);\n",
       "    animation:\n",
       "      spin 1s steps(1) infinite;\n",
       "  }\n",
       "\n",
       "  @keyframes spin {\n",
       "    0% {\n",
       "      border-color: transparent;\n",
       "      border-bottom-color: var(--fill-color);\n",
       "      border-left-color: var(--fill-color);\n",
       "    }\n",
       "    20% {\n",
       "      border-color: transparent;\n",
       "      border-left-color: var(--fill-color);\n",
       "      border-top-color: var(--fill-color);\n",
       "    }\n",
       "    30% {\n",
       "      border-color: transparent;\n",
       "      border-left-color: var(--fill-color);\n",
       "      border-top-color: var(--fill-color);\n",
       "      border-right-color: var(--fill-color);\n",
       "    }\n",
       "    40% {\n",
       "      border-color: transparent;\n",
       "      border-right-color: var(--fill-color);\n",
       "      border-top-color: var(--fill-color);\n",
       "    }\n",
       "    60% {\n",
       "      border-color: transparent;\n",
       "      border-right-color: var(--fill-color);\n",
       "    }\n",
       "    80% {\n",
       "      border-color: transparent;\n",
       "      border-right-color: var(--fill-color);\n",
       "      border-bottom-color: var(--fill-color);\n",
       "    }\n",
       "    90% {\n",
       "      border-color: transparent;\n",
       "      border-bottom-color: var(--fill-color);\n",
       "    }\n",
       "  }\n",
       "</style>\n",
       "\n",
       "  <script>\n",
       "    async function quickchart(key) {\n",
       "      const quickchartButtonEl =\n",
       "        document.querySelector('#' + key + ' button');\n",
       "      quickchartButtonEl.disabled = true;  // To prevent multiple clicks.\n",
       "      quickchartButtonEl.classList.add('colab-df-spinner');\n",
       "      try {\n",
       "        const charts = await google.colab.kernel.invokeFunction(\n",
       "            'suggestCharts', [key], {});\n",
       "      } catch (error) {\n",
       "        console.error('Error during call to suggestCharts:', error);\n",
       "      }\n",
       "      quickchartButtonEl.classList.remove('colab-df-spinner');\n",
       "      quickchartButtonEl.classList.add('colab-df-quickchart-complete');\n",
       "    }\n",
       "    (() => {\n",
       "      let quickchartButtonEl =\n",
       "        document.querySelector('#df-0187b404-0d48-49ca-af27-9edb8a203cce button');\n",
       "      quickchartButtonEl.style.display =\n",
       "        google.colab.kernel.accessAllowed ? 'block' : 'none';\n",
       "    })();\n",
       "  </script>\n",
       "</div>\n",
       "    </div>\n",
       "  </div>\n"
      ],
      "text/plain": [
       "             Store  Weekly_Sales  Holiday_Flag  Temperature   Fuel_Price  \\\n",
       "count  6435.000000  6.435000e+03   6435.000000  6435.000000  6435.000000   \n",
       "mean     23.000000  1.046965e+06      0.069930    60.663782     3.358607   \n",
       "std      12.988182  5.643666e+05      0.255049    18.444933     0.459020   \n",
       "min       1.000000  2.099862e+05      0.000000    -2.060000     2.472000   \n",
       "25%      12.000000  5.533501e+05      0.000000    47.460000     2.933000   \n",
       "50%      23.000000  9.607460e+05      0.000000    62.670000     3.445000   \n",
       "75%      34.000000  1.420159e+06      0.000000    74.940000     3.735000   \n",
       "max      45.000000  3.818686e+06      1.000000   100.140000     4.468000   \n",
       "\n",
       "               CPI  Unemployment  \n",
       "count  6435.000000   6435.000000  \n",
       "mean    171.578394      7.999151  \n",
       "std      39.356712      1.875885  \n",
       "min     126.064000      3.879000  \n",
       "25%     131.735000      6.891000  \n",
       "50%     182.616521      7.874000  \n",
       "75%     212.743293      8.622000  \n",
       "max     227.232807     14.313000  "
      ]
     },
     "execution_count": 5,
     "metadata": {},
     "output_type": "execute_result"
    }
   ],
   "source": [
    "df.describe()"
   ]
  },
  {
   "cell_type": "markdown",
   "metadata": {
    "id": "DOck07EJZMba"
   },
   "source": [
    "### Create features and drop irrelevant features (if any)"
   ]
  },
  {
   "cell_type": "code",
   "execution_count": 6,
   "metadata": {
    "colab": {
     "base_uri": "https://localhost:8080/"
    },
    "execution": {
     "iopub.execute_input": "2023-02-04T13:19:49.998363Z",
     "iopub.status.busy": "2023-02-04T13:19:49.997947Z",
     "iopub.status.idle": "2023-02-04T13:19:50.008325Z",
     "shell.execute_reply": "2023-02-04T13:19:50.007243Z",
     "shell.execute_reply.started": "2023-02-04T13:19:49.998325Z"
    },
    "id": "uc3ncYa0ZMbb",
    "outputId": "ae219163-c663-40a2-8fa9-e1cdff11a1d5"
   },
   "outputs": [
    {
     "data": {
      "text/plain": [
       "((6435, 6), (6435,))"
      ]
     },
     "execution_count": 6,
     "metadata": {},
     "output_type": "execute_result"
    }
   ],
   "source": [
    "Y = df['Unemployment']\n",
    "X = df.drop(['Unemployment','Date'],axis=1)\n",
    "\n",
    "X.shape, Y.shape"
   ]
  },
  {
   "cell_type": "markdown",
   "metadata": {
    "id": "79qS4tyNZMbd"
   },
   "source": [
    "### 2.2 Splitting X and Y into training and test dataset"
   ]
  },
  {
   "cell_type": "code",
   "execution_count": 7,
   "metadata": {
    "colab": {
     "base_uri": "https://localhost:8080/"
    },
    "execution": {
     "iopub.execute_input": "2023-02-04T13:24:27.618072Z",
     "iopub.status.busy": "2023-02-04T13:24:27.617452Z",
     "iopub.status.idle": "2023-02-04T13:24:27.630521Z",
     "shell.execute_reply": "2023-02-04T13:24:27.629352Z",
     "shell.execute_reply.started": "2023-02-04T13:24:27.618001Z"
    },
    "id": "hbcnylaLZMbe",
    "outputId": "be52dfab-8a84-45e5-8025-957a7fa9b2f1"
   },
   "outputs": [
    {
     "data": {
      "text/plain": [
       "((5148, 6), (5148,), (1287, 6), (1287,))"
      ]
     },
     "execution_count": 7,
     "metadata": {},
     "output_type": "execute_result"
    }
   ],
   "source": [
    "# Split the dataset for test and train\n",
    "from sklearn.model_selection import train_test_split\n",
    "x_train, x_test, y_train, y_test = train_test_split(X,Y,train_size=0.8, random_state=0)\n",
    "x_train.shape, y_train.shape, x_test.shape, y_test.shape"
   ]
  },
  {
   "cell_type": "markdown",
   "metadata": {
    "id": "ZzITP9mmZMbf"
   },
   "source": [
    "###  2.3 Feature Scaling"
   ]
  },
  {
   "cell_type": "code",
   "execution_count": 8,
   "metadata": {
    "colab": {
     "base_uri": "https://localhost:8080/"
    },
    "execution": {
     "iopub.execute_input": "2023-02-04T13:25:55.580653Z",
     "iopub.status.busy": "2023-02-04T13:25:55.580261Z",
     "iopub.status.idle": "2023-02-04T13:25:55.593795Z",
     "shell.execute_reply": "2023-02-04T13:25:55.592418Z",
     "shell.execute_reply.started": "2023-02-04T13:25:55.580620Z"
    },
    "id": "YTLLZXDUZMbg",
    "outputId": "bf713816-2502-43e4-9b1c-8e17d8f2557b"
   },
   "outputs": [
    {
     "data": {
      "text/plain": [
       "((5148, 6), (1287, 6))"
      ]
     },
     "execution_count": 8,
     "metadata": {},
     "output_type": "execute_result"
    }
   ],
   "source": [
    "from sklearn.preprocessing import StandardScaler\n",
    "\n",
    "sc = StandardScaler()\n",
    "\n",
    "x_train = sc.fit_transform(x_train)\n",
    "x_test = sc.transform(x_test)\n",
    "\n",
    "x_train.shape, x_test.shape"
   ]
  },
  {
   "cell_type": "markdown",
   "metadata": {
    "id": "LYe_9uUeZMbh"
   },
   "source": [
    "# 3. Create a base model"
   ]
  },
  {
   "cell_type": "markdown",
   "metadata": {},
   "source": [
    "### 3.1 With the random choice of layers and neurons"
   ]
  },
  {
   "cell_type": "code",
   "execution_count": 9,
   "metadata": {
    "execution": {
     "iopub.execute_input": "2023-02-04T13:29:05.415586Z",
     "iopub.status.busy": "2023-02-04T13:29:05.415204Z",
     "iopub.status.idle": "2023-02-04T13:29:05.444424Z",
     "shell.execute_reply": "2023-02-04T13:29:05.442848Z",
     "shell.execute_reply.started": "2023-02-04T13:29:05.415552Z"
    },
    "id": "IYrAFPr9ZMbi"
   },
   "outputs": [],
   "source": [
    "# Base model\n",
    "tf.random.set_seed(42)\n",
    "\n",
    "base_model = tf.keras.Sequential([\n",
    "    tf.keras.layers.Input(shape=x_test.shape[1]),\n",
    "    tf.keras.layers.Dense(64,activation=\"relu\"),\n",
    "    tf.keras.layers.Dense(1, activation=\"linear\")\n",
    "])"
   ]
  },
  {
   "cell_type": "code",
   "execution_count": 10,
   "metadata": {
    "execution": {
     "iopub.execute_input": "2023-02-04T13:29:47.259254Z",
     "iopub.status.busy": "2023-02-04T13:29:47.258912Z",
     "iopub.status.idle": "2023-02-04T13:29:47.274644Z",
     "shell.execute_reply": "2023-02-04T13:29:47.273923Z",
     "shell.execute_reply.started": "2023-02-04T13:29:47.259226Z"
    },
    "id": "sbVScV6DZMbi"
   },
   "outputs": [],
   "source": [
    "base_model.compile(loss=\"mae\",\n",
    "               optimizer=tf.keras.optimizers.Adam(),\n",
    "                   metrics=[\"mean_absolute_error\"])"
   ]
  },
  {
   "cell_type": "code",
   "execution_count": 11,
   "metadata": {
    "colab": {
     "base_uri": "https://localhost:8080/"
    },
    "execution": {
     "iopub.execute_input": "2023-02-04T13:30:08.668602Z",
     "iopub.status.busy": "2023-02-04T13:30:08.668226Z",
     "iopub.status.idle": "2023-02-04T13:30:50.152078Z",
     "shell.execute_reply": "2023-02-04T13:30:50.150964Z",
     "shell.execute_reply.started": "2023-02-04T13:30:08.668572Z"
    },
    "id": "_jTkNgBlZMbj",
    "outputId": "0b299a07-bc15-4d77-f577-9286cbb1dba2"
   },
   "outputs": [
    {
     "name": "stdout",
     "output_type": "stream",
     "text": [
      "Epoch 1/100\n",
      "129/129 [==============================] - 6s 5ms/step - loss: 6.2224 - mean_absolute_error: 6.2224 - val_loss: 4.1749 - val_mean_absolute_error: 4.1749\n",
      "Epoch 2/100\n",
      "129/129 [==============================] - 0s 3ms/step - loss: 2.4746 - mean_absolute_error: 2.4746 - val_loss: 1.5843 - val_mean_absolute_error: 1.5843\n",
      "Epoch 3/100\n",
      "129/129 [==============================] - 0s 3ms/step - loss: 1.4225 - mean_absolute_error: 1.4225 - val_loss: 1.4118 - val_mean_absolute_error: 1.4118\n",
      "Epoch 4/100\n",
      "129/129 [==============================] - 0s 3ms/step - loss: 1.3111 - mean_absolute_error: 1.3111 - val_loss: 1.3310 - val_mean_absolute_error: 1.3310\n",
      "Epoch 5/100\n",
      "129/129 [==============================] - 0s 3ms/step - loss: 1.2547 - mean_absolute_error: 1.2547 - val_loss: 1.2788 - val_mean_absolute_error: 1.2788\n",
      "Epoch 6/100\n",
      "129/129 [==============================] - 0s 3ms/step - loss: 1.2093 - mean_absolute_error: 1.2093 - val_loss: 1.2380 - val_mean_absolute_error: 1.2380\n",
      "Epoch 7/100\n",
      "129/129 [==============================] - 0s 3ms/step - loss: 1.1767 - mean_absolute_error: 1.1767 - val_loss: 1.2031 - val_mean_absolute_error: 1.2031\n",
      "Epoch 8/100\n",
      "129/129 [==============================] - 0s 3ms/step - loss: 1.1486 - mean_absolute_error: 1.1486 - val_loss: 1.1777 - val_mean_absolute_error: 1.1777\n",
      "Epoch 9/100\n",
      "129/129 [==============================] - 0s 3ms/step - loss: 1.1270 - mean_absolute_error: 1.1270 - val_loss: 1.1640 - val_mean_absolute_error: 1.1640\n",
      "Epoch 10/100\n",
      "129/129 [==============================] - 1s 5ms/step - loss: 1.1076 - mean_absolute_error: 1.1076 - val_loss: 1.1430 - val_mean_absolute_error: 1.1430\n",
      "Epoch 11/100\n",
      "129/129 [==============================] - 1s 5ms/step - loss: 1.0934 - mean_absolute_error: 1.0934 - val_loss: 1.1334 - val_mean_absolute_error: 1.1334\n",
      "Epoch 12/100\n",
      "129/129 [==============================] - 1s 4ms/step - loss: 1.0775 - mean_absolute_error: 1.0775 - val_loss: 1.1243 - val_mean_absolute_error: 1.1243\n",
      "Epoch 13/100\n",
      "129/129 [==============================] - 1s 4ms/step - loss: 1.0660 - mean_absolute_error: 1.0660 - val_loss: 1.1007 - val_mean_absolute_error: 1.1007\n",
      "Epoch 14/100\n",
      "129/129 [==============================] - 1s 5ms/step - loss: 1.0504 - mean_absolute_error: 1.0504 - val_loss: 1.1029 - val_mean_absolute_error: 1.1029\n",
      "Epoch 15/100\n",
      "129/129 [==============================] - 1s 5ms/step - loss: 1.0416 - mean_absolute_error: 1.0416 - val_loss: 1.0807 - val_mean_absolute_error: 1.0807\n",
      "Epoch 16/100\n",
      "129/129 [==============================] - 0s 3ms/step - loss: 1.0338 - mean_absolute_error: 1.0338 - val_loss: 1.0715 - val_mean_absolute_error: 1.0715\n",
      "Epoch 17/100\n",
      "129/129 [==============================] - 0s 3ms/step - loss: 1.0219 - mean_absolute_error: 1.0219 - val_loss: 1.0610 - val_mean_absolute_error: 1.0610\n",
      "Epoch 18/100\n",
      "129/129 [==============================] - 0s 3ms/step - loss: 1.0144 - mean_absolute_error: 1.0144 - val_loss: 1.0498 - val_mean_absolute_error: 1.0498\n",
      "Epoch 19/100\n",
      "129/129 [==============================] - 0s 3ms/step - loss: 1.0094 - mean_absolute_error: 1.0094 - val_loss: 1.0441 - val_mean_absolute_error: 1.0441\n",
      "Epoch 20/100\n",
      "129/129 [==============================] - 0s 3ms/step - loss: 0.9960 - mean_absolute_error: 0.9960 - val_loss: 1.0427 - val_mean_absolute_error: 1.0427\n",
      "Epoch 21/100\n",
      "129/129 [==============================] - 0s 3ms/step - loss: 0.9875 - mean_absolute_error: 0.9875 - val_loss: 1.0284 - val_mean_absolute_error: 1.0284\n",
      "Epoch 22/100\n",
      "129/129 [==============================] - 0s 3ms/step - loss: 0.9811 - mean_absolute_error: 0.9811 - val_loss: 1.0210 - val_mean_absolute_error: 1.0210\n",
      "Epoch 23/100\n",
      "129/129 [==============================] - 0s 3ms/step - loss: 0.9715 - mean_absolute_error: 0.9715 - val_loss: 1.0125 - val_mean_absolute_error: 1.0125\n",
      "Epoch 24/100\n",
      "129/129 [==============================] - 0s 3ms/step - loss: 0.9648 - mean_absolute_error: 0.9648 - val_loss: 1.0061 - val_mean_absolute_error: 1.0061\n",
      "Epoch 25/100\n",
      "129/129 [==============================] - 1s 4ms/step - loss: 0.9572 - mean_absolute_error: 0.9572 - val_loss: 0.9983 - val_mean_absolute_error: 0.9983\n",
      "Epoch 26/100\n",
      "129/129 [==============================] - 0s 3ms/step - loss: 0.9478 - mean_absolute_error: 0.9478 - val_loss: 0.9922 - val_mean_absolute_error: 0.9922\n",
      "Epoch 27/100\n",
      "129/129 [==============================] - 0s 3ms/step - loss: 0.9416 - mean_absolute_error: 0.9416 - val_loss: 0.9855 - val_mean_absolute_error: 0.9855\n",
      "Epoch 28/100\n",
      "129/129 [==============================] - 0s 3ms/step - loss: 0.9346 - mean_absolute_error: 0.9346 - val_loss: 0.9789 - val_mean_absolute_error: 0.9789\n",
      "Epoch 29/100\n",
      "129/129 [==============================] - 0s 3ms/step - loss: 0.9281 - mean_absolute_error: 0.9281 - val_loss: 0.9676 - val_mean_absolute_error: 0.9676\n",
      "Epoch 30/100\n",
      "129/129 [==============================] - 0s 3ms/step - loss: 0.9200 - mean_absolute_error: 0.9200 - val_loss: 0.9668 - val_mean_absolute_error: 0.9668\n",
      "Epoch 31/100\n",
      "129/129 [==============================] - 0s 3ms/step - loss: 0.9134 - mean_absolute_error: 0.9134 - val_loss: 0.9606 - val_mean_absolute_error: 0.9606\n",
      "Epoch 32/100\n",
      "129/129 [==============================] - 0s 3ms/step - loss: 0.9083 - mean_absolute_error: 0.9083 - val_loss: 0.9526 - val_mean_absolute_error: 0.9526\n",
      "Epoch 33/100\n",
      "129/129 [==============================] - 0s 3ms/step - loss: 0.9015 - mean_absolute_error: 0.9015 - val_loss: 0.9614 - val_mean_absolute_error: 0.9614\n",
      "Epoch 34/100\n",
      "129/129 [==============================] - 0s 3ms/step - loss: 0.8991 - mean_absolute_error: 0.8991 - val_loss: 0.9509 - val_mean_absolute_error: 0.9509\n",
      "Epoch 35/100\n",
      "129/129 [==============================] - 0s 3ms/step - loss: 0.8908 - mean_absolute_error: 0.8908 - val_loss: 0.9396 - val_mean_absolute_error: 0.9396\n",
      "Epoch 36/100\n",
      "129/129 [==============================] - 0s 3ms/step - loss: 0.8889 - mean_absolute_error: 0.8889 - val_loss: 0.9365 - val_mean_absolute_error: 0.9365\n",
      "Epoch 37/100\n",
      "129/129 [==============================] - 0s 3ms/step - loss: 0.8830 - mean_absolute_error: 0.8830 - val_loss: 0.9294 - val_mean_absolute_error: 0.9294\n",
      "Epoch 38/100\n",
      "129/129 [==============================] - 1s 4ms/step - loss: 0.8768 - mean_absolute_error: 0.8768 - val_loss: 0.9289 - val_mean_absolute_error: 0.9289\n",
      "Epoch 39/100\n",
      "129/129 [==============================] - 1s 5ms/step - loss: 0.8720 - mean_absolute_error: 0.8720 - val_loss: 0.9194 - val_mean_absolute_error: 0.9194\n",
      "Epoch 40/100\n",
      "129/129 [==============================] - 1s 5ms/step - loss: 0.8693 - mean_absolute_error: 0.8693 - val_loss: 0.9224 - val_mean_absolute_error: 0.9224\n",
      "Epoch 41/100\n",
      "129/129 [==============================] - 1s 5ms/step - loss: 0.8656 - mean_absolute_error: 0.8656 - val_loss: 0.9140 - val_mean_absolute_error: 0.9140\n",
      "Epoch 42/100\n",
      "129/129 [==============================] - 1s 5ms/step - loss: 0.8598 - mean_absolute_error: 0.8598 - val_loss: 0.9246 - val_mean_absolute_error: 0.9246\n",
      "Epoch 43/100\n",
      "129/129 [==============================] - 1s 5ms/step - loss: 0.8563 - mean_absolute_error: 0.8563 - val_loss: 0.9074 - val_mean_absolute_error: 0.9074\n",
      "Epoch 44/100\n",
      "129/129 [==============================] - 1s 4ms/step - loss: 0.8547 - mean_absolute_error: 0.8547 - val_loss: 0.9073 - val_mean_absolute_error: 0.9073\n",
      "Epoch 45/100\n",
      "129/129 [==============================] - 0s 3ms/step - loss: 0.8517 - mean_absolute_error: 0.8517 - val_loss: 0.9032 - val_mean_absolute_error: 0.9032\n",
      "Epoch 46/100\n",
      "129/129 [==============================] - 0s 3ms/step - loss: 0.8475 - mean_absolute_error: 0.8475 - val_loss: 0.8981 - val_mean_absolute_error: 0.8981\n",
      "Epoch 47/100\n",
      "129/129 [==============================] - 0s 3ms/step - loss: 0.8446 - mean_absolute_error: 0.8446 - val_loss: 0.8987 - val_mean_absolute_error: 0.8987\n",
      "Epoch 48/100\n",
      "129/129 [==============================] - 0s 3ms/step - loss: 0.8429 - mean_absolute_error: 0.8429 - val_loss: 0.8920 - val_mean_absolute_error: 0.8920\n",
      "Epoch 49/100\n",
      "129/129 [==============================] - 0s 3ms/step - loss: 0.8382 - mean_absolute_error: 0.8382 - val_loss: 0.8913 - val_mean_absolute_error: 0.8913\n",
      "Epoch 50/100\n",
      "129/129 [==============================] - 0s 3ms/step - loss: 0.8346 - mean_absolute_error: 0.8346 - val_loss: 0.8926 - val_mean_absolute_error: 0.8926\n",
      "Epoch 51/100\n",
      "129/129 [==============================] - 0s 3ms/step - loss: 0.8351 - mean_absolute_error: 0.8351 - val_loss: 0.8878 - val_mean_absolute_error: 0.8878\n",
      "Epoch 52/100\n",
      "129/129 [==============================] - 0s 3ms/step - loss: 0.8297 - mean_absolute_error: 0.8297 - val_loss: 0.8842 - val_mean_absolute_error: 0.8842\n",
      "Epoch 53/100\n",
      "129/129 [==============================] - 0s 3ms/step - loss: 0.8270 - mean_absolute_error: 0.8270 - val_loss: 0.8901 - val_mean_absolute_error: 0.8901\n",
      "Epoch 54/100\n",
      "129/129 [==============================] - 0s 3ms/step - loss: 0.8263 - mean_absolute_error: 0.8263 - val_loss: 0.8794 - val_mean_absolute_error: 0.8794\n",
      "Epoch 55/100\n",
      "129/129 [==============================] - 0s 3ms/step - loss: 0.8237 - mean_absolute_error: 0.8237 - val_loss: 0.8796 - val_mean_absolute_error: 0.8796\n",
      "Epoch 56/100\n",
      "129/129 [==============================] - 0s 3ms/step - loss: 0.8199 - mean_absolute_error: 0.8199 - val_loss: 0.8738 - val_mean_absolute_error: 0.8738\n",
      "Epoch 57/100\n",
      "129/129 [==============================] - 0s 3ms/step - loss: 0.8177 - mean_absolute_error: 0.8177 - val_loss: 0.8734 - val_mean_absolute_error: 0.8734\n",
      "Epoch 58/100\n",
      "129/129 [==============================] - 0s 3ms/step - loss: 0.8139 - mean_absolute_error: 0.8139 - val_loss: 0.8664 - val_mean_absolute_error: 0.8664\n",
      "Epoch 59/100\n",
      "129/129 [==============================] - 0s 3ms/step - loss: 0.8120 - mean_absolute_error: 0.8120 - val_loss: 0.8632 - val_mean_absolute_error: 0.8632\n",
      "Epoch 60/100\n",
      "129/129 [==============================] - 0s 3ms/step - loss: 0.8104 - mean_absolute_error: 0.8104 - val_loss: 0.8643 - val_mean_absolute_error: 0.8643\n",
      "Epoch 61/100\n",
      "129/129 [==============================] - 0s 3ms/step - loss: 0.8077 - mean_absolute_error: 0.8077 - val_loss: 0.8611 - val_mean_absolute_error: 0.8611\n",
      "Epoch 62/100\n",
      "129/129 [==============================] - 0s 3ms/step - loss: 0.8054 - mean_absolute_error: 0.8054 - val_loss: 0.8585 - val_mean_absolute_error: 0.8585\n",
      "Epoch 63/100\n",
      "129/129 [==============================] - 0s 3ms/step - loss: 0.8044 - mean_absolute_error: 0.8044 - val_loss: 0.8549 - val_mean_absolute_error: 0.8549\n",
      "Epoch 64/100\n",
      "129/129 [==============================] - 0s 3ms/step - loss: 0.8027 - mean_absolute_error: 0.8027 - val_loss: 0.8630 - val_mean_absolute_error: 0.8630\n",
      "Epoch 65/100\n",
      "129/129 [==============================] - 0s 3ms/step - loss: 0.8019 - mean_absolute_error: 0.8019 - val_loss: 0.8544 - val_mean_absolute_error: 0.8544\n",
      "Epoch 66/100\n",
      "129/129 [==============================] - 0s 3ms/step - loss: 0.7965 - mean_absolute_error: 0.7965 - val_loss: 0.8578 - val_mean_absolute_error: 0.8578\n",
      "Epoch 67/100\n",
      "129/129 [==============================] - 0s 3ms/step - loss: 0.7950 - mean_absolute_error: 0.7950 - val_loss: 0.8561 - val_mean_absolute_error: 0.8561\n",
      "Epoch 68/100\n",
      "129/129 [==============================] - 1s 5ms/step - loss: 0.7940 - mean_absolute_error: 0.7940 - val_loss: 0.8597 - val_mean_absolute_error: 0.8597\n",
      "Epoch 69/100\n",
      "129/129 [==============================] - 1s 5ms/step - loss: 0.7941 - mean_absolute_error: 0.7941 - val_loss: 0.8466 - val_mean_absolute_error: 0.8466\n",
      "Epoch 70/100\n",
      "129/129 [==============================] - 1s 5ms/step - loss: 0.7886 - mean_absolute_error: 0.7886 - val_loss: 0.8437 - val_mean_absolute_error: 0.8437\n",
      "Epoch 71/100\n",
      "129/129 [==============================] - 1s 5ms/step - loss: 0.7888 - mean_absolute_error: 0.7888 - val_loss: 0.8455 - val_mean_absolute_error: 0.8455\n",
      "Epoch 72/100\n",
      "129/129 [==============================] - 1s 5ms/step - loss: 0.7869 - mean_absolute_error: 0.7869 - val_loss: 0.8398 - val_mean_absolute_error: 0.8398\n",
      "Epoch 73/100\n",
      "129/129 [==============================] - 1s 4ms/step - loss: 0.7846 - mean_absolute_error: 0.7846 - val_loss: 0.8378 - val_mean_absolute_error: 0.8378\n",
      "Epoch 74/100\n",
      "129/129 [==============================] - 0s 3ms/step - loss: 0.7847 - mean_absolute_error: 0.7847 - val_loss: 0.8380 - val_mean_absolute_error: 0.8380\n",
      "Epoch 75/100\n",
      "129/129 [==============================] - 0s 3ms/step - loss: 0.7831 - mean_absolute_error: 0.7831 - val_loss: 0.8458 - val_mean_absolute_error: 0.8458\n",
      "Epoch 76/100\n",
      "129/129 [==============================] - 0s 3ms/step - loss: 0.7828 - mean_absolute_error: 0.7828 - val_loss: 0.8364 - val_mean_absolute_error: 0.8364\n",
      "Epoch 77/100\n",
      "129/129 [==============================] - 0s 3ms/step - loss: 0.7814 - mean_absolute_error: 0.7814 - val_loss: 0.8404 - val_mean_absolute_error: 0.8404\n",
      "Epoch 78/100\n",
      "129/129 [==============================] - 0s 3ms/step - loss: 0.7804 - mean_absolute_error: 0.7804 - val_loss: 0.8316 - val_mean_absolute_error: 0.8316\n",
      "Epoch 79/100\n",
      "129/129 [==============================] - 0s 3ms/step - loss: 0.7748 - mean_absolute_error: 0.7748 - val_loss: 0.8355 - val_mean_absolute_error: 0.8355\n",
      "Epoch 80/100\n",
      "129/129 [==============================] - 0s 3ms/step - loss: 0.7778 - mean_absolute_error: 0.7778 - val_loss: 0.8377 - val_mean_absolute_error: 0.8377\n",
      "Epoch 81/100\n",
      "129/129 [==============================] - 0s 3ms/step - loss: 0.7768 - mean_absolute_error: 0.7768 - val_loss: 0.8312 - val_mean_absolute_error: 0.8312\n",
      "Epoch 82/100\n",
      "129/129 [==============================] - 0s 3ms/step - loss: 0.7751 - mean_absolute_error: 0.7751 - val_loss: 0.8273 - val_mean_absolute_error: 0.8273\n",
      "Epoch 83/100\n",
      "129/129 [==============================] - 0s 3ms/step - loss: 0.7739 - mean_absolute_error: 0.7739 - val_loss: 0.8296 - val_mean_absolute_error: 0.8296\n",
      "Epoch 84/100\n",
      "129/129 [==============================] - 0s 3ms/step - loss: 0.7716 - mean_absolute_error: 0.7716 - val_loss: 0.8258 - val_mean_absolute_error: 0.8258\n",
      "Epoch 85/100\n",
      "129/129 [==============================] - 0s 3ms/step - loss: 0.7711 - mean_absolute_error: 0.7711 - val_loss: 0.8330 - val_mean_absolute_error: 0.8330\n",
      "Epoch 86/100\n",
      "129/129 [==============================] - 0s 3ms/step - loss: 0.7702 - mean_absolute_error: 0.7702 - val_loss: 0.8241 - val_mean_absolute_error: 0.8241\n",
      "Epoch 87/100\n",
      "129/129 [==============================] - 0s 3ms/step - loss: 0.7673 - mean_absolute_error: 0.7673 - val_loss: 0.8345 - val_mean_absolute_error: 0.8345\n",
      "Epoch 88/100\n",
      "129/129 [==============================] - 0s 3ms/step - loss: 0.7651 - mean_absolute_error: 0.7651 - val_loss: 0.8212 - val_mean_absolute_error: 0.8212\n",
      "Epoch 89/100\n",
      "129/129 [==============================] - 0s 3ms/step - loss: 0.7622 - mean_absolute_error: 0.7622 - val_loss: 0.8211 - val_mean_absolute_error: 0.8211\n",
      "Epoch 90/100\n",
      "129/129 [==============================] - 0s 3ms/step - loss: 0.7636 - mean_absolute_error: 0.7636 - val_loss: 0.8230 - val_mean_absolute_error: 0.8230\n",
      "Epoch 91/100\n",
      "129/129 [==============================] - 1s 4ms/step - loss: 0.7620 - mean_absolute_error: 0.7620 - val_loss: 0.8232 - val_mean_absolute_error: 0.8232\n",
      "Epoch 92/100\n",
      "129/129 [==============================] - 0s 3ms/step - loss: 0.7624 - mean_absolute_error: 0.7624 - val_loss: 0.8223 - val_mean_absolute_error: 0.8223\n",
      "Epoch 93/100\n",
      "129/129 [==============================] - 0s 3ms/step - loss: 0.7598 - mean_absolute_error: 0.7598 - val_loss: 0.8169 - val_mean_absolute_error: 0.8169\n",
      "Epoch 94/100\n",
      "129/129 [==============================] - 0s 3ms/step - loss: 0.7586 - mean_absolute_error: 0.7586 - val_loss: 0.8143 - val_mean_absolute_error: 0.8143\n",
      "Epoch 95/100\n",
      "129/129 [==============================] - 0s 3ms/step - loss: 0.7585 - mean_absolute_error: 0.7585 - val_loss: 0.8160 - val_mean_absolute_error: 0.8160\n",
      "Epoch 96/100\n",
      "129/129 [==============================] - 1s 4ms/step - loss: 0.7570 - mean_absolute_error: 0.7570 - val_loss: 0.8137 - val_mean_absolute_error: 0.8137\n",
      "Epoch 97/100\n",
      "129/129 [==============================] - 1s 5ms/step - loss: 0.7571 - mean_absolute_error: 0.7571 - val_loss: 0.8171 - val_mean_absolute_error: 0.8171\n",
      "Epoch 98/100\n",
      "129/129 [==============================] - 1s 4ms/step - loss: 0.7555 - mean_absolute_error: 0.7555 - val_loss: 0.8140 - val_mean_absolute_error: 0.8140\n",
      "Epoch 99/100\n",
      "129/129 [==============================] - 1s 5ms/step - loss: 0.7548 - mean_absolute_error: 0.7548 - val_loss: 0.8078 - val_mean_absolute_error: 0.8078\n",
      "Epoch 100/100\n",
      "129/129 [==============================] - 1s 5ms/step - loss: 0.7516 - mean_absolute_error: 0.7516 - val_loss: 0.8132 - val_mean_absolute_error: 0.8132\n"
     ]
    },
    {
     "data": {
      "text/plain": [
       "<keras.src.callbacks.History at 0x7ccb0c0c7f70>"
      ]
     },
     "execution_count": 11,
     "metadata": {},
     "output_type": "execute_result"
    }
   ],
   "source": [
    "base_model.fit(x_train,y_train, epochs=100,validation_split=0.2, verbose=1)"
   ]
  },
  {
   "cell_type": "markdown",
   "metadata": {
    "id": "oGzNkjvbZMbm"
   },
   "source": [
    "#### 3.2  Make prediction on the test data"
   ]
  },
  {
   "cell_type": "code",
   "execution_count": 12,
   "metadata": {
    "colab": {
     "base_uri": "https://localhost:8080/"
    },
    "execution": {
     "iopub.execute_input": "2023-02-04T13:34:55.574916Z",
     "iopub.status.busy": "2023-02-04T13:34:55.574164Z",
     "iopub.status.idle": "2023-02-04T13:34:55.665511Z",
     "shell.execute_reply": "2023-02-04T13:34:55.664772Z",
     "shell.execute_reply.started": "2023-02-04T13:34:55.574870Z"
    },
    "id": "h9__-NRbZMbn",
    "outputId": "c347ab31-9d22-41b3-ea2b-f96ce051b9ec"
   },
   "outputs": [
    {
     "name": "stdout",
     "output_type": "stream",
     "text": [
      "41/41 [==============================] - 0s 1ms/step\n"
     ]
    },
    {
     "data": {
      "text/plain": [
       "array([[8.599121 ],\n",
       "       [7.944632 ],\n",
       "       [6.239096 ],\n",
       "       ...,\n",
       "       [7.947989 ],\n",
       "       [7.4602137],\n",
       "       [6.2088685]], dtype=float32)"
      ]
     },
     "execution_count": 12,
     "metadata": {},
     "output_type": "execute_result"
    }
   ],
   "source": [
    "base_model_prediction=base_model.predict(x_test)\n",
    "base_model_prediction"
   ]
  },
  {
   "cell_type": "markdown",
   "metadata": {
    "id": "dTfzBw4HZMbo"
   },
   "source": [
    "#### 3.3 Calculate MSE and RSME"
   ]
  },
  {
   "cell_type": "code",
   "execution_count": 13,
   "metadata": {
    "colab": {
     "base_uri": "https://localhost:8080/"
    },
    "execution": {
     "iopub.execute_input": "2023-02-04T13:40:42.364663Z",
     "iopub.status.busy": "2023-02-04T13:40:42.364319Z",
     "iopub.status.idle": "2023-02-04T13:40:42.373809Z",
     "shell.execute_reply": "2023-02-04T13:40:42.372171Z",
     "shell.execute_reply.started": "2023-02-04T13:40:42.364635Z"
    },
    "id": "AR_iA-cjZMbp",
    "outputId": "a8b9e2f2-1159-4cad-df6d-ea338e114c8f"
   },
   "outputs": [
    {
     "data": {
      "text/plain": [
       "(1.868179438322607, 1.3668136077470867)"
      ]
     },
     "execution_count": 13,
     "metadata": {},
     "output_type": "execute_result"
    }
   ],
   "source": [
    "# example of calculate the mean squared error\n",
    "from sklearn.metrics import mean_squared_error\n",
    "mse = mean_squared_error(y_test, base_model_prediction)\n",
    "rmse = mean_squared_error(y_test, base_model_prediction, squared=False)\n",
    "mse, rmse"
   ]
  },
  {
   "cell_type": "markdown",
   "metadata": {
    "id": "3OPDRncsZMbq"
   },
   "source": [
    "# 4. Using Keras Tuner\n",
    "KerasTuner is an easy-to-use, scalable hyperparameter optimization framework that solves the pain points of hyperparameter search."
   ]
  },
  {
   "cell_type": "code",
   "execution_count": 14,
   "metadata": {
    "colab": {
     "base_uri": "https://localhost:8080/"
    },
    "id": "owr0s25NtQdM",
    "outputId": "ac5d2555-9e38-4700-af38-71b9b4268a3f"
   },
   "outputs": [
    {
     "name": "stdout",
     "output_type": "stream",
     "text": [
      "\u001b[?25l     \u001b[90m━━━━━━━━━━━━━━━━━━━━━━━━━━━━━━━━━━━━━━━━\u001b[0m \u001b[32m0.0/128.9 kB\u001b[0m \u001b[31m?\u001b[0m eta \u001b[36m-:--:--\u001b[0m\r",
      "\u001b[2K     \u001b[90m━━━━━━━━━━━━━━━━━━━━━━━━━━━━━━━━━━━━━━━━\u001b[0m \u001b[32m128.9/128.9 kB\u001b[0m \u001b[31m4.0 MB/s\u001b[0m eta \u001b[36m0:00:00\u001b[0m\n",
      "\u001b[?25h"
     ]
    }
   ],
   "source": [
    "pip install -q -U keras-tuner"
   ]
  },
  {
   "cell_type": "code",
   "execution_count": 15,
   "metadata": {
    "execution": {
     "iopub.execute_input": "2023-02-04T13:43:36.369115Z",
     "iopub.status.busy": "2023-02-04T13:43:36.368731Z",
     "iopub.status.idle": "2023-02-04T13:43:36.375856Z",
     "shell.execute_reply": "2023-02-04T13:43:36.374010Z",
     "shell.execute_reply.started": "2023-02-04T13:43:36.369085Z"
    },
    "id": "cBNazw00ZMbr"
   },
   "outputs": [],
   "source": [
    "from keras_tuner import RandomSearch\n",
    "from tensorflow.keras import layers"
   ]
  },
  {
   "cell_type": "markdown",
   "metadata": {},
   "source": [
    "### 4.1 Define a function that creates and returns a Keras model."
   ]
  },
  {
   "cell_type": "markdown",
   "metadata": {
    "id": "Aq_uMRspZMbs"
   },
   "source": [
    "Create and return a Keras model using a function, please. When creating a model, specify the hyperparameters using the hp option."
   ]
  },
  {
   "cell_type": "code",
   "execution_count": 16,
   "metadata": {
    "execution": {
     "iopub.execute_input": "2023-02-04T13:50:07.224190Z",
     "iopub.status.busy": "2023-02-04T13:50:07.223740Z",
     "iopub.status.idle": "2023-02-04T13:50:07.231126Z",
     "shell.execute_reply": "2023-02-04T13:50:07.229914Z",
     "shell.execute_reply.started": "2023-02-04T13:50:07.224154Z"
    },
    "id": "wa1NTnx-ZMbt"
   },
   "outputs": [],
   "source": [
    "def build_model(hp):\n",
    "    model = tf.keras.Sequential()\n",
    "    for i in range(hp.Int(\"num_layers\",2,20)):\n",
    "        model.add(layers.Dense(units=hp.Int(\"units_\"+str(i),\n",
    "                              min_value=32,\n",
    "                              max_value=512,\n",
    "                              step=32),\n",
    "                 activation=\"relu\"))\n",
    "        model.add(layers.Dense(1,activation=\"linear\"))\n",
    "        model.compile(optimizer=tf.keras.optimizers.Adam(\n",
    "        hp.Choice(\"learning_rate\",[1e-2,1e-3,1e-4])),\n",
    "                     loss=\"mean_absolute_error\",\n",
    "                     metrics=[\"mean_absolute_error\"])\n",
    "    return model"
   ]
  },
  {
   "cell_type": "markdown",
   "metadata": {
    "id": "LvUCOjHyZMbu"
   },
   "source": [
    "Initialize a RandomSearch tuner"
   ]
  },
  {
   "cell_type": "code",
   "execution_count": 17,
   "metadata": {
    "execution": {
     "iopub.execute_input": "2023-02-04T13:50:08.254862Z",
     "iopub.status.busy": "2023-02-04T13:50:08.253600Z",
     "iopub.status.idle": "2023-02-04T13:50:08.274539Z",
     "shell.execute_reply": "2023-02-04T13:50:08.273809Z",
     "shell.execute_reply.started": "2023-02-04T13:50:08.254792Z"
    },
    "id": "8YDRaOV4ZMbu"
   },
   "outputs": [],
   "source": [
    "tuner = RandomSearch(build_model,\n",
    "                    objective=\"val_mean_absolute_error\",\n",
    "                    max_trials=5,\n",
    "                    executions_per_trial=3,\n",
    "                    directory=\"ann project1\",\n",
    "                    project_name=\"tuner_test\")"
   ]
  },
  {
   "cell_type": "markdown",
   "metadata": {
    "id": "Zyr5kcFDZMbv"
   },
   "source": [
    "A summary of the tuner we prepared"
   ]
  },
  {
   "cell_type": "code",
   "execution_count": 18,
   "metadata": {
    "colab": {
     "base_uri": "https://localhost:8080/"
    },
    "execution": {
     "iopub.execute_input": "2023-02-04T13:50:20.080671Z",
     "iopub.status.busy": "2023-02-04T13:50:20.080301Z",
     "iopub.status.idle": "2023-02-04T13:50:20.086201Z",
     "shell.execute_reply": "2023-02-04T13:50:20.085367Z",
     "shell.execute_reply.started": "2023-02-04T13:50:20.080642Z"
    },
    "id": "bCng-CJtZMbw",
    "outputId": "34880eee-a5c3-4b8b-80c0-18be3cfe627c"
   },
   "outputs": [
    {
     "name": "stdout",
     "output_type": "stream",
     "text": [
      "Search space summary\n",
      "Default search space size: 4\n",
      "num_layers (Int)\n",
      "{'default': None, 'conditions': [], 'min_value': 2, 'max_value': 20, 'step': 1, 'sampling': 'linear'}\n",
      "units_0 (Int)\n",
      "{'default': None, 'conditions': [], 'min_value': 32, 'max_value': 512, 'step': 32, 'sampling': 'linear'}\n",
      "learning_rate (Choice)\n",
      "{'default': 0.01, 'conditions': [], 'values': [0.01, 0.001, 0.0001], 'ordered': True}\n",
      "units_1 (Int)\n",
      "{'default': None, 'conditions': [], 'min_value': 32, 'max_value': 512, 'step': 32, 'sampling': 'linear'}\n"
     ]
    }
   ],
   "source": [
    "tuner.search_space_summary()"
   ]
  },
  {
   "cell_type": "markdown",
   "metadata": {},
   "source": [
    "### 4.2 Searching for the best model"
   ]
  },
  {
   "cell_type": "markdown",
   "metadata": {
    "id": "Fr7Fkx--ZMbw"
   },
   "source": [
    "Start looking for the best model by running the following command."
   ]
  },
  {
   "cell_type": "code",
   "execution_count": 19,
   "metadata": {
    "colab": {
     "base_uri": "https://localhost:8080/"
    },
    "execution": {
     "iopub.execute_input": "2023-02-04T13:51:22.701145Z",
     "iopub.status.busy": "2023-02-04T13:51:22.700747Z",
     "iopub.status.idle": "2023-02-04T14:15:22.861077Z",
     "shell.execute_reply": "2023-02-04T14:15:22.860096Z",
     "shell.execute_reply.started": "2023-02-04T13:51:22.701114Z"
    },
    "id": "bnzXrU1TZMbw",
    "outputId": "82f984c8-6ca8-4c82-f88f-c06df6b2f256"
   },
   "outputs": [
    {
     "name": "stdout",
     "output_type": "stream",
     "text": [
      "Trial 5 Complete [00h 12m 38s]\n",
      "val_mean_absolute_error: 0.7054475049177805\n",
      "\n",
      "Best val_mean_absolute_error So Far: 0.38489888111750287\n",
      "Total elapsed time: 00h 37m 07s\n"
     ]
    }
   ],
   "source": [
    "tuner.search(x_train,\n",
    "            y_train,\n",
    "            epochs=100,\n",
    "            validation_data=(x_test, y_test))"
   ]
  },
  {
   "cell_type": "markdown",
   "metadata": {},
   "source": [
    "### 4.3 Get the result summary and replicate it in the next model"
   ]
  },
  {
   "cell_type": "markdown",
   "metadata": {
    "id": "dSire0hnZMbx"
   },
   "source": [
    "Check the result summary, generally it shows 10 best trials"
   ]
  },
  {
   "cell_type": "code",
   "execution_count": 20,
   "metadata": {
    "colab": {
     "base_uri": "https://localhost:8080/"
    },
    "execution": {
     "iopub.execute_input": "2023-02-04T14:19:49.816352Z",
     "iopub.status.busy": "2023-02-04T14:19:49.815967Z",
     "iopub.status.idle": "2023-02-04T14:19:49.824612Z",
     "shell.execute_reply": "2023-02-04T14:19:49.823127Z",
     "shell.execute_reply.started": "2023-02-04T14:19:49.816321Z"
    },
    "id": "VlLUA2h0ZMbx",
    "outputId": "600cda5d-f47b-4ad0-bbe4-b19340c78cf5"
   },
   "outputs": [
    {
     "name": "stdout",
     "output_type": "stream",
     "text": [
      "Results summary\n",
      "Results in ann project1/tuner_test\n",
      "Showing 10 best trials\n",
      "Objective(name=\"val_mean_absolute_error\", direction=\"min\")\n",
      "\n",
      "Trial 2 summary\n",
      "Hyperparameters:\n",
      "num_layers: 8\n",
      "units_0: 320\n",
      "learning_rate: 0.001\n",
      "units_1: 32\n",
      "units_2: 128\n",
      "units_3: 128\n",
      "units_4: 416\n",
      "units_5: 160\n",
      "units_6: 320\n",
      "units_7: 320\n",
      "units_8: 128\n",
      "units_9: 96\n",
      "units_10: 192\n",
      "units_11: 96\n",
      "units_12: 320\n",
      "Score: 0.38489888111750287\n",
      "\n",
      "Trial 1 summary\n",
      "Hyperparameters:\n",
      "num_layers: 2\n",
      "units_0: 256\n",
      "learning_rate: 0.001\n",
      "units_1: 224\n",
      "units_2: 160\n",
      "units_3: 32\n",
      "units_4: 192\n",
      "units_5: 96\n",
      "units_6: 256\n",
      "units_7: 288\n",
      "units_8: 448\n",
      "units_9: 64\n",
      "units_10: 256\n",
      "units_11: 64\n",
      "units_12: 320\n",
      "Score: 0.4404125114281972\n",
      "\n",
      "Trial 3 summary\n",
      "Hyperparameters:\n",
      "num_layers: 2\n",
      "units_0: 96\n",
      "learning_rate: 0.01\n",
      "units_1: 160\n",
      "units_2: 320\n",
      "units_3: 320\n",
      "units_4: 192\n",
      "units_5: 64\n",
      "units_6: 288\n",
      "units_7: 256\n",
      "units_8: 32\n",
      "units_9: 416\n",
      "units_10: 416\n",
      "units_11: 480\n",
      "units_12: 32\n",
      "Score: 0.45005420843760174\n",
      "\n",
      "Trial 4 summary\n",
      "Hyperparameters:\n",
      "num_layers: 19\n",
      "units_0: 512\n",
      "learning_rate: 0.001\n",
      "units_1: 96\n",
      "units_2: 224\n",
      "units_3: 96\n",
      "units_4: 32\n",
      "units_5: 320\n",
      "units_6: 320\n",
      "units_7: 160\n",
      "units_8: 416\n",
      "units_9: 384\n",
      "units_10: 288\n",
      "units_11: 64\n",
      "units_12: 256\n",
      "units_13: 32\n",
      "units_14: 32\n",
      "units_15: 32\n",
      "units_16: 32\n",
      "units_17: 32\n",
      "units_18: 32\n",
      "Score: 0.7054475049177805\n",
      "\n",
      "Trial 0 summary\n",
      "Hyperparameters:\n",
      "num_layers: 13\n",
      "units_0: 96\n",
      "learning_rate: 0.01\n",
      "units_1: 512\n",
      "units_2: 32\n",
      "units_3: 32\n",
      "units_4: 32\n",
      "units_5: 32\n",
      "units_6: 32\n",
      "units_7: 32\n",
      "units_8: 32\n",
      "units_9: 32\n",
      "units_10: 32\n",
      "units_11: 32\n",
      "units_12: 32\n",
      "Score: 0.72560782233874\n"
     ]
    }
   ],
   "source": [
    "tuner.results_summary()"
   ]
  },
  {
   "cell_type": "markdown",
   "metadata": {
    "id": "sZGG2MOBZMby"
   },
   "source": [
    "### Now we will create a model, according to the Keras Tuner\n",
    "\n",
    "**Hyperparameters**\n",
    "+ num_layers: (With number of neurons)\n",
    "+ units_0: 416\n",
    "+ units_1: 96\n",
    "+ units_2: 160\n",
    "+ units_3: 288\n",
    "+ units_4: 352\n",
    "+ units_5: 448\n",
    "+ units_6: 384\n",
    "+ units_7: 448\n",
    "+ units_8: 352\n",
    "+ units_9: 96\n",
    "+ units_10: 288\n",
    "+ units_11: 448\n",
    "+ units_12: 480\n",
    "+ units_13: 160\n",
    "+ units_14: 320\n",
    "+ units_15: 160\n",
    "+ learning_rate: 0.001"
   ]
  },
  {
   "cell_type": "markdown",
   "metadata": {
    "id": "_1uPzS7WZMby"
   },
   "source": [
    "# 5 Create a tuned model.\n",
    "\n",
    "Based on the keras tuner results."
   ]
  },
  {
   "cell_type": "markdown",
   "metadata": {},
   "source": [
    "### 5.1 Replicate the best result of the RandomSearch() in the last process."
   ]
  },
  {
   "cell_type": "code",
   "execution_count": 21,
   "metadata": {
    "colab": {
     "base_uri": "https://localhost:8080/"
    },
    "execution": {
     "iopub.execute_input": "2023-02-04T14:35:57.884436Z",
     "iopub.status.busy": "2023-02-04T14:35:57.884075Z",
     "iopub.status.idle": "2023-02-04T14:36:45.608567Z",
     "shell.execute_reply": "2023-02-04T14:36:45.607310Z",
     "shell.execute_reply.started": "2023-02-04T14:35:57.884405Z"
    },
    "id": "PAve6osBZMbz",
    "outputId": "70d35a05-3de7-4774-ad04-928db92c4077"
   },
   "outputs": [
    {
     "name": "stderr",
     "output_type": "stream",
     "text": [
      "WARNING:absl:`lr` is deprecated in Keras optimizer, please use `learning_rate` or use the legacy optimizer, e.g.,tf.keras.optimizers.legacy.Adam.\n"
     ]
    },
    {
     "name": "stdout",
     "output_type": "stream",
     "text": [
      "Epoch 1/100\n",
      "33/33 [==============================] - 5s 16ms/step - loss: 3.1211 - mean_absolute_error: 3.1211 - val_loss: 1.3960 - val_mean_absolute_error: 1.3960\n",
      "Epoch 2/100\n",
      "33/33 [==============================] - 0s 12ms/step - loss: 1.4769 - mean_absolute_error: 1.4769 - val_loss: 1.5533 - val_mean_absolute_error: 1.5533\n",
      "Epoch 3/100\n",
      "33/33 [==============================] - 0s 12ms/step - loss: 1.4591 - mean_absolute_error: 1.4591 - val_loss: 1.3766 - val_mean_absolute_error: 1.3766\n",
      "Epoch 4/100\n",
      "33/33 [==============================] - 0s 12ms/step - loss: 1.2588 - mean_absolute_error: 1.2588 - val_loss: 1.2076 - val_mean_absolute_error: 1.2076\n",
      "Epoch 5/100\n",
      "33/33 [==============================] - 0s 12ms/step - loss: 1.1831 - mean_absolute_error: 1.1831 - val_loss: 1.4519 - val_mean_absolute_error: 1.4519\n",
      "Epoch 6/100\n",
      "33/33 [==============================] - 0s 12ms/step - loss: 1.2504 - mean_absolute_error: 1.2504 - val_loss: 1.5268 - val_mean_absolute_error: 1.5268\n",
      "Epoch 7/100\n",
      "33/33 [==============================] - 0s 11ms/step - loss: 1.1270 - mean_absolute_error: 1.1270 - val_loss: 1.0321 - val_mean_absolute_error: 1.0321\n",
      "Epoch 8/100\n",
      "33/33 [==============================] - 0s 12ms/step - loss: 1.0393 - mean_absolute_error: 1.0393 - val_loss: 1.2986 - val_mean_absolute_error: 1.2986\n",
      "Epoch 9/100\n",
      "33/33 [==============================] - 0s 12ms/step - loss: 1.0652 - mean_absolute_error: 1.0652 - val_loss: 1.0032 - val_mean_absolute_error: 1.0032\n",
      "Epoch 10/100\n",
      "33/33 [==============================] - 0s 9ms/step - loss: 0.9998 - mean_absolute_error: 0.9998 - val_loss: 0.9451 - val_mean_absolute_error: 0.9451\n",
      "Epoch 11/100\n",
      "33/33 [==============================] - 0s 8ms/step - loss: 0.9648 - mean_absolute_error: 0.9648 - val_loss: 0.8722 - val_mean_absolute_error: 0.8722\n",
      "Epoch 12/100\n",
      "33/33 [==============================] - 0s 12ms/step - loss: 0.9221 - mean_absolute_error: 0.9221 - val_loss: 0.8123 - val_mean_absolute_error: 0.8123\n",
      "Epoch 13/100\n",
      "33/33 [==============================] - 0s 11ms/step - loss: 0.9647 - mean_absolute_error: 0.9647 - val_loss: 0.9181 - val_mean_absolute_error: 0.9181\n",
      "Epoch 14/100\n",
      "33/33 [==============================] - 0s 8ms/step - loss: 0.8590 - mean_absolute_error: 0.8590 - val_loss: 0.8579 - val_mean_absolute_error: 0.8579\n",
      "Epoch 15/100\n",
      "33/33 [==============================] - 0s 9ms/step - loss: 0.9662 - mean_absolute_error: 0.9662 - val_loss: 1.2213 - val_mean_absolute_error: 1.2213\n",
      "Epoch 16/100\n",
      "33/33 [==============================] - 0s 8ms/step - loss: 1.0458 - mean_absolute_error: 1.0458 - val_loss: 1.2203 - val_mean_absolute_error: 1.2203\n",
      "Epoch 17/100\n",
      "33/33 [==============================] - 0s 8ms/step - loss: 0.9659 - mean_absolute_error: 0.9659 - val_loss: 0.8511 - val_mean_absolute_error: 0.8511\n",
      "Epoch 18/100\n",
      "33/33 [==============================] - 0s 8ms/step - loss: 0.7414 - mean_absolute_error: 0.7414 - val_loss: 0.8350 - val_mean_absolute_error: 0.8350\n",
      "Epoch 19/100\n",
      "33/33 [==============================] - 0s 8ms/step - loss: 0.7348 - mean_absolute_error: 0.7348 - val_loss: 0.8187 - val_mean_absolute_error: 0.8187\n",
      "Epoch 20/100\n",
      "33/33 [==============================] - 0s 8ms/step - loss: 0.7002 - mean_absolute_error: 0.7002 - val_loss: 0.8872 - val_mean_absolute_error: 0.8872\n",
      "Epoch 21/100\n",
      "33/33 [==============================] - 0s 9ms/step - loss: 0.7500 - mean_absolute_error: 0.7500 - val_loss: 0.7277 - val_mean_absolute_error: 0.7277\n",
      "Epoch 22/100\n",
      "33/33 [==============================] - 0s 7ms/step - loss: 0.8090 - mean_absolute_error: 0.8090 - val_loss: 0.8337 - val_mean_absolute_error: 0.8337\n",
      "Epoch 23/100\n",
      "33/33 [==============================] - 0s 8ms/step - loss: 0.7040 - mean_absolute_error: 0.7040 - val_loss: 0.9366 - val_mean_absolute_error: 0.9366\n",
      "Epoch 24/100\n",
      "33/33 [==============================] - 0s 15ms/step - loss: 0.6894 - mean_absolute_error: 0.6894 - val_loss: 0.7798 - val_mean_absolute_error: 0.7798\n",
      "Epoch 25/100\n",
      "33/33 [==============================] - 0s 10ms/step - loss: 0.7406 - mean_absolute_error: 0.7406 - val_loss: 0.7186 - val_mean_absolute_error: 0.7186\n",
      "Epoch 26/100\n",
      "33/33 [==============================] - 0s 9ms/step - loss: 0.6010 - mean_absolute_error: 0.6010 - val_loss: 1.0366 - val_mean_absolute_error: 1.0366\n",
      "Epoch 27/100\n",
      "33/33 [==============================] - 0s 8ms/step - loss: 0.7922 - mean_absolute_error: 0.7922 - val_loss: 0.7448 - val_mean_absolute_error: 0.7448\n",
      "Epoch 28/100\n",
      "33/33 [==============================] - 0s 9ms/step - loss: 0.6817 - mean_absolute_error: 0.6817 - val_loss: 0.8426 - val_mean_absolute_error: 0.8426\n",
      "Epoch 29/100\n",
      "33/33 [==============================] - 0s 8ms/step - loss: 0.6264 - mean_absolute_error: 0.6264 - val_loss: 0.6575 - val_mean_absolute_error: 0.6575\n",
      "Epoch 30/100\n",
      "33/33 [==============================] - 0s 8ms/step - loss: 0.5514 - mean_absolute_error: 0.5514 - val_loss: 0.6102 - val_mean_absolute_error: 0.6102\n",
      "Epoch 31/100\n",
      "33/33 [==============================] - 0s 8ms/step - loss: 0.5566 - mean_absolute_error: 0.5566 - val_loss: 0.6275 - val_mean_absolute_error: 0.6275\n",
      "Epoch 32/100\n",
      "33/33 [==============================] - 0s 8ms/step - loss: 0.5876 - mean_absolute_error: 0.5876 - val_loss: 0.6038 - val_mean_absolute_error: 0.6038\n",
      "Epoch 33/100\n",
      "33/33 [==============================] - 0s 9ms/step - loss: 0.5365 - mean_absolute_error: 0.5365 - val_loss: 0.5808 - val_mean_absolute_error: 0.5808\n",
      "Epoch 34/100\n",
      "33/33 [==============================] - 0s 8ms/step - loss: 0.5195 - mean_absolute_error: 0.5195 - val_loss: 0.5743 - val_mean_absolute_error: 0.5743\n",
      "Epoch 35/100\n",
      "33/33 [==============================] - 0s 9ms/step - loss: 0.5721 - mean_absolute_error: 0.5721 - val_loss: 0.8836 - val_mean_absolute_error: 0.8836\n",
      "Epoch 36/100\n",
      "33/33 [==============================] - 0s 13ms/step - loss: 0.6917 - mean_absolute_error: 0.6917 - val_loss: 0.8006 - val_mean_absolute_error: 0.8006\n",
      "Epoch 37/100\n",
      "33/33 [==============================] - 1s 16ms/step - loss: 0.5295 - mean_absolute_error: 0.5295 - val_loss: 0.6384 - val_mean_absolute_error: 0.6384\n",
      "Epoch 38/100\n",
      "33/33 [==============================] - 1s 16ms/step - loss: 0.4874 - mean_absolute_error: 0.4874 - val_loss: 0.6513 - val_mean_absolute_error: 0.6513\n",
      "Epoch 39/100\n",
      "33/33 [==============================] - 1s 16ms/step - loss: 0.5035 - mean_absolute_error: 0.5035 - val_loss: 0.6736 - val_mean_absolute_error: 0.6736\n",
      "Epoch 40/100\n",
      "33/33 [==============================] - 1s 19ms/step - loss: 0.5131 - mean_absolute_error: 0.5131 - val_loss: 0.5064 - val_mean_absolute_error: 0.5064\n",
      "Epoch 41/100\n",
      "33/33 [==============================] - 1s 21ms/step - loss: 0.5249 - mean_absolute_error: 0.5249 - val_loss: 0.8511 - val_mean_absolute_error: 0.8511\n",
      "Epoch 42/100\n",
      "33/33 [==============================] - 1s 21ms/step - loss: 0.4554 - mean_absolute_error: 0.4554 - val_loss: 0.6194 - val_mean_absolute_error: 0.6194\n",
      "Epoch 43/100\n",
      "33/33 [==============================] - 1s 17ms/step - loss: 0.4351 - mean_absolute_error: 0.4351 - val_loss: 0.6750 - val_mean_absolute_error: 0.6750\n",
      "Epoch 44/100\n",
      "33/33 [==============================] - 1s 17ms/step - loss: 0.5078 - mean_absolute_error: 0.5078 - val_loss: 0.5331 - val_mean_absolute_error: 0.5331\n",
      "Epoch 45/100\n",
      "33/33 [==============================] - 1s 18ms/step - loss: 0.4613 - mean_absolute_error: 0.4613 - val_loss: 0.5384 - val_mean_absolute_error: 0.5384\n",
      "Epoch 46/100\n",
      "33/33 [==============================] - 1s 19ms/step - loss: 0.5721 - mean_absolute_error: 0.5721 - val_loss: 0.5099 - val_mean_absolute_error: 0.5099\n",
      "Epoch 47/100\n",
      "33/33 [==============================] - 1s 17ms/step - loss: 0.4221 - mean_absolute_error: 0.4221 - val_loss: 0.6117 - val_mean_absolute_error: 0.6117\n",
      "Epoch 48/100\n",
      "33/33 [==============================] - 0s 14ms/step - loss: 0.4624 - mean_absolute_error: 0.4624 - val_loss: 0.5049 - val_mean_absolute_error: 0.5049\n",
      "Epoch 49/100\n",
      "33/33 [==============================] - 1s 16ms/step - loss: 0.4160 - mean_absolute_error: 0.4160 - val_loss: 0.5583 - val_mean_absolute_error: 0.5583\n",
      "Epoch 50/100\n",
      "33/33 [==============================] - 1s 16ms/step - loss: 0.4088 - mean_absolute_error: 0.4088 - val_loss: 0.6826 - val_mean_absolute_error: 0.6826\n",
      "Epoch 51/100\n",
      "33/33 [==============================] - 0s 14ms/step - loss: 0.4473 - mean_absolute_error: 0.4473 - val_loss: 0.5175 - val_mean_absolute_error: 0.5175\n",
      "Epoch 52/100\n",
      "33/33 [==============================] - 0s 14ms/step - loss: 0.4891 - mean_absolute_error: 0.4891 - val_loss: 0.6862 - val_mean_absolute_error: 0.6862\n",
      "Epoch 53/100\n",
      "33/33 [==============================] - 0s 15ms/step - loss: 0.4580 - mean_absolute_error: 0.4580 - val_loss: 0.5568 - val_mean_absolute_error: 0.5568\n",
      "Epoch 54/100\n",
      "33/33 [==============================] - 1s 15ms/step - loss: 0.4050 - mean_absolute_error: 0.4050 - val_loss: 0.7303 - val_mean_absolute_error: 0.7303\n",
      "Epoch 55/100\n",
      "33/33 [==============================] - 1s 16ms/step - loss: 0.4412 - mean_absolute_error: 0.4412 - val_loss: 0.5481 - val_mean_absolute_error: 0.5481\n",
      "Epoch 56/100\n",
      "33/33 [==============================] - 1s 16ms/step - loss: 0.3490 - mean_absolute_error: 0.3490 - val_loss: 0.5067 - val_mean_absolute_error: 0.5067\n",
      "Epoch 57/100\n",
      "33/33 [==============================] - 1s 19ms/step - loss: 0.4340 - mean_absolute_error: 0.4340 - val_loss: 0.5382 - val_mean_absolute_error: 0.5382\n",
      "Epoch 58/100\n",
      "33/33 [==============================] - 1s 19ms/step - loss: 0.3717 - mean_absolute_error: 0.3717 - val_loss: 0.5486 - val_mean_absolute_error: 0.5486\n",
      "Epoch 59/100\n",
      "33/33 [==============================] - 1s 20ms/step - loss: 0.3799 - mean_absolute_error: 0.3799 - val_loss: 0.5345 - val_mean_absolute_error: 0.5345\n",
      "Epoch 60/100\n",
      "33/33 [==============================] - 1s 16ms/step - loss: 0.3696 - mean_absolute_error: 0.3696 - val_loss: 0.5071 - val_mean_absolute_error: 0.5071\n",
      "Epoch 61/100\n",
      "33/33 [==============================] - 1s 18ms/step - loss: 0.5109 - mean_absolute_error: 0.5109 - val_loss: 0.5827 - val_mean_absolute_error: 0.5827\n",
      "Epoch 62/100\n",
      "33/33 [==============================] - 1s 17ms/step - loss: 0.4758 - mean_absolute_error: 0.4758 - val_loss: 0.5416 - val_mean_absolute_error: 0.5416\n",
      "Epoch 63/100\n",
      "33/33 [==============================] - 1s 17ms/step - loss: 0.4620 - mean_absolute_error: 0.4620 - val_loss: 0.6434 - val_mean_absolute_error: 0.6434\n",
      "Epoch 64/100\n",
      "33/33 [==============================] - 0s 14ms/step - loss: 0.4160 - mean_absolute_error: 0.4160 - val_loss: 0.5000 - val_mean_absolute_error: 0.5000\n",
      "Epoch 65/100\n",
      "33/33 [==============================] - 1s 17ms/step - loss: 0.3992 - mean_absolute_error: 0.3992 - val_loss: 0.5514 - val_mean_absolute_error: 0.5514\n",
      "Epoch 66/100\n",
      "33/33 [==============================] - 1s 23ms/step - loss: 0.4369 - mean_absolute_error: 0.4369 - val_loss: 0.5569 - val_mean_absolute_error: 0.5569\n",
      "Epoch 67/100\n",
      "33/33 [==============================] - 0s 15ms/step - loss: 0.3915 - mean_absolute_error: 0.3915 - val_loss: 0.4905 - val_mean_absolute_error: 0.4905\n",
      "Epoch 68/100\n",
      "33/33 [==============================] - 1s 16ms/step - loss: 0.4114 - mean_absolute_error: 0.4114 - val_loss: 0.4888 - val_mean_absolute_error: 0.4888\n",
      "Epoch 69/100\n",
      "33/33 [==============================] - 1s 23ms/step - loss: 0.3914 - mean_absolute_error: 0.3914 - val_loss: 0.6058 - val_mean_absolute_error: 0.6058\n",
      "Epoch 70/100\n",
      "33/33 [==============================] - 1s 22ms/step - loss: 0.3988 - mean_absolute_error: 0.3988 - val_loss: 0.5486 - val_mean_absolute_error: 0.5486\n",
      "Epoch 71/100\n",
      "33/33 [==============================] - 1s 21ms/step - loss: 0.3644 - mean_absolute_error: 0.3644 - val_loss: 0.7925 - val_mean_absolute_error: 0.7925\n",
      "Epoch 72/100\n",
      "33/33 [==============================] - 1s 17ms/step - loss: 0.4574 - mean_absolute_error: 0.4574 - val_loss: 0.5060 - val_mean_absolute_error: 0.5060\n",
      "Epoch 73/100\n",
      "33/33 [==============================] - 1s 17ms/step - loss: 0.3549 - mean_absolute_error: 0.3549 - val_loss: 0.4571 - val_mean_absolute_error: 0.4571\n",
      "Epoch 74/100\n",
      "33/33 [==============================] - 0s 13ms/step - loss: 0.3819 - mean_absolute_error: 0.3819 - val_loss: 0.5043 - val_mean_absolute_error: 0.5043\n",
      "Epoch 75/100\n",
      "33/33 [==============================] - 1s 15ms/step - loss: 0.3626 - mean_absolute_error: 0.3626 - val_loss: 0.5270 - val_mean_absolute_error: 0.5270\n",
      "Epoch 76/100\n",
      "33/33 [==============================] - 1s 17ms/step - loss: 0.3625 - mean_absolute_error: 0.3625 - val_loss: 0.4590 - val_mean_absolute_error: 0.4590\n",
      "Epoch 77/100\n",
      "33/33 [==============================] - 1s 18ms/step - loss: 0.3378 - mean_absolute_error: 0.3378 - val_loss: 0.5343 - val_mean_absolute_error: 0.5343\n",
      "Epoch 78/100\n",
      "33/33 [==============================] - 1s 20ms/step - loss: 0.4138 - mean_absolute_error: 0.4138 - val_loss: 0.4982 - val_mean_absolute_error: 0.4982\n",
      "Epoch 79/100\n",
      "33/33 [==============================] - 0s 13ms/step - loss: 0.3053 - mean_absolute_error: 0.3053 - val_loss: 0.4490 - val_mean_absolute_error: 0.4490\n",
      "Epoch 80/100\n",
      "33/33 [==============================] - 1s 16ms/step - loss: 0.2990 - mean_absolute_error: 0.2990 - val_loss: 0.4540 - val_mean_absolute_error: 0.4540\n",
      "Epoch 81/100\n",
      "33/33 [==============================] - 0s 14ms/step - loss: 0.4144 - mean_absolute_error: 0.4144 - val_loss: 0.5685 - val_mean_absolute_error: 0.5685\n",
      "Epoch 82/100\n",
      "33/33 [==============================] - 1s 17ms/step - loss: 0.4143 - mean_absolute_error: 0.4143 - val_loss: 0.6137 - val_mean_absolute_error: 0.6137\n",
      "Epoch 83/100\n",
      "33/33 [==============================] - 0s 13ms/step - loss: 0.4142 - mean_absolute_error: 0.4142 - val_loss: 0.4900 - val_mean_absolute_error: 0.4900\n",
      "Epoch 84/100\n",
      "33/33 [==============================] - 0s 8ms/step - loss: 0.4341 - mean_absolute_error: 0.4341 - val_loss: 0.4793 - val_mean_absolute_error: 0.4793\n",
      "Epoch 85/100\n",
      "33/33 [==============================] - 0s 8ms/step - loss: 0.3848 - mean_absolute_error: 0.3848 - val_loss: 0.4885 - val_mean_absolute_error: 0.4885\n",
      "Epoch 86/100\n",
      "33/33 [==============================] - 0s 8ms/step - loss: 0.3946 - mean_absolute_error: 0.3946 - val_loss: 0.5410 - val_mean_absolute_error: 0.5410\n",
      "Epoch 87/100\n",
      "33/33 [==============================] - 0s 8ms/step - loss: 0.4136 - mean_absolute_error: 0.4136 - val_loss: 0.5150 - val_mean_absolute_error: 0.5150\n",
      "Epoch 88/100\n",
      "33/33 [==============================] - 0s 9ms/step - loss: 0.3254 - mean_absolute_error: 0.3254 - val_loss: 0.5182 - val_mean_absolute_error: 0.5182\n",
      "Epoch 89/100\n",
      "33/33 [==============================] - 0s 9ms/step - loss: 0.3912 - mean_absolute_error: 0.3912 - val_loss: 0.5460 - val_mean_absolute_error: 0.5460\n",
      "Epoch 90/100\n",
      "33/33 [==============================] - 0s 8ms/step - loss: 0.3611 - mean_absolute_error: 0.3611 - val_loss: 0.4991 - val_mean_absolute_error: 0.4991\n",
      "Epoch 91/100\n",
      "33/33 [==============================] - 0s 9ms/step - loss: 0.3232 - mean_absolute_error: 0.3232 - val_loss: 0.4799 - val_mean_absolute_error: 0.4799\n",
      "Epoch 92/100\n",
      "33/33 [==============================] - 0s 8ms/step - loss: 0.3355 - mean_absolute_error: 0.3355 - val_loss: 0.6397 - val_mean_absolute_error: 0.6397\n",
      "Epoch 93/100\n",
      "33/33 [==============================] - 0s 8ms/step - loss: 0.4564 - mean_absolute_error: 0.4564 - val_loss: 0.5324 - val_mean_absolute_error: 0.5324\n",
      "Epoch 94/100\n",
      "33/33 [==============================] - 0s 8ms/step - loss: 0.3572 - mean_absolute_error: 0.3572 - val_loss: 0.5767 - val_mean_absolute_error: 0.5767\n",
      "Epoch 95/100\n",
      "33/33 [==============================] - 0s 8ms/step - loss: 0.3801 - mean_absolute_error: 0.3801 - val_loss: 0.4522 - val_mean_absolute_error: 0.4522\n",
      "Epoch 96/100\n",
      "33/33 [==============================] - 0s 9ms/step - loss: 0.3638 - mean_absolute_error: 0.3638 - val_loss: 0.4334 - val_mean_absolute_error: 0.4334\n",
      "Epoch 97/100\n",
      "33/33 [==============================] - 0s 8ms/step - loss: 0.2860 - mean_absolute_error: 0.2860 - val_loss: 0.4490 - val_mean_absolute_error: 0.4490\n",
      "Epoch 98/100\n",
      "33/33 [==============================] - 0s 12ms/step - loss: 0.3266 - mean_absolute_error: 0.3266 - val_loss: 0.4723 - val_mean_absolute_error: 0.4723\n",
      "Epoch 99/100\n",
      "33/33 [==============================] - 0s 12ms/step - loss: 0.3264 - mean_absolute_error: 0.3264 - val_loss: 0.4626 - val_mean_absolute_error: 0.4626\n",
      "Epoch 100/100\n",
      "33/33 [==============================] - 0s 12ms/step - loss: 0.3287 - mean_absolute_error: 0.3287 - val_loss: 0.5094 - val_mean_absolute_error: 0.5094\n"
     ]
    }
   ],
   "source": [
    "tf.random.set_seed(42)\n",
    "\n",
    "tuned_model = tf.keras.Sequential([\n",
    "    layers.Input(shape=x_test.shape[1]),\n",
    "    layers.Dense(416,activation=\"relu\"),\n",
    "    layers.Dense(96, activation=\"relu\"),\n",
    "    layers.Dense(160, activation=\"relu\"),\n",
    "    layers.Dense(288, activation=\"relu\"),\n",
    "    layers.Dense(352, activation=\"relu\"),\n",
    "    layers.Dense(448, activation=\"relu\"),\n",
    "    layers.Dense(384, activation=\"relu\"),\n",
    "    layers.Dense(448, activation=\"relu\"),\n",
    "    layers.Dense(352, activation=\"relu\"),\n",
    "    layers.Dense(96, activation=\"relu\"),\n",
    "    layers.Dense(288, activation=\"relu\"),\n",
    "    layers.Dense(448, activation=\"relu\"),\n",
    "    layers.Dense(480, activation=\"relu\"),\n",
    "    layers.Dense(160, activation=\"relu\"),\n",
    "    layers.Dense(320, activation=\"relu\"),\n",
    "    layers.Dense(160, activation=\"relu\"),\n",
    "    layers.Dense(1, activation=\"linear\"),\n",
    "])\n",
    "\n",
    "tuned_model.compile(loss=\"mean_absolute_error\",\n",
    "                   optimizer=tf.keras.optimizers.Adam(lr=0.001),\n",
    "                   metrics=[\"mean_absolute_error\"])\n",
    "\n",
    "tuned_history = tuned_model.fit(x_test, y_test, epochs=100, validation_split=0.2)"
   ]
  },
  {
   "cell_type": "markdown",
   "metadata": {},
   "source": [
    "### 5.2 Test and evaluate it on the test data"
   ]
  },
  {
   "cell_type": "markdown",
   "metadata": {
    "id": "DA6ncDliZMb0"
   },
   "source": [
    "#### Make predictions and evaluate the tuned model"
   ]
  },
  {
   "cell_type": "code",
   "execution_count": 22,
   "metadata": {
    "colab": {
     "base_uri": "https://localhost:8080/"
    },
    "execution": {
     "iopub.execute_input": "2023-02-04T14:38:02.713779Z",
     "iopub.status.busy": "2023-02-04T14:38:02.713416Z",
     "iopub.status.idle": "2023-02-04T14:38:03.089946Z",
     "shell.execute_reply": "2023-02-04T14:38:03.088637Z",
     "shell.execute_reply.started": "2023-02-04T14:38:02.713752Z"
    },
    "id": "MCef4z7SZMb0",
    "outputId": "52951913-f700-44a8-d90a-89fd5afb467f"
   },
   "outputs": [
    {
     "name": "stdout",
     "output_type": "stream",
     "text": [
      "41/41 [==============================] - 0s 3ms/step\n"
     ]
    },
    {
     "data": {
      "text/plain": [
       "array([[12.673263 ],\n",
       "       [ 8.08144  ],\n",
       "       [ 6.174694 ],\n",
       "       ...,\n",
       "       [ 8.3040695],\n",
       "       [ 7.6240416],\n",
       "       [ 6.139049 ]], dtype=float32)"
      ]
     },
     "execution_count": 22,
     "metadata": {},
     "output_type": "execute_result"
    }
   ],
   "source": [
    "# Predictions for tuned model\n",
    "tuned_model_prediction=tuned_model.predict(x_test)\n",
    "tuned_model_prediction"
   ]
  },
  {
   "cell_type": "code",
   "execution_count": 23,
   "metadata": {
    "colab": {
     "base_uri": "https://localhost:8080/"
    },
    "execution": {
     "iopub.execute_input": "2023-02-04T14:39:11.636084Z",
     "iopub.status.busy": "2023-02-04T14:39:11.635734Z",
     "iopub.status.idle": "2023-02-04T14:39:11.645580Z",
     "shell.execute_reply": "2023-02-04T14:39:11.644453Z",
     "shell.execute_reply.started": "2023-02-04T14:39:11.636055Z"
    },
    "id": "CJqVdgZIZMb0",
    "outputId": "be3c2023-adff-44d5-8af0-ca847fb52080"
   },
   "outputs": [
    {
     "data": {
      "text/plain": [
       "(0.3675311113680568, 0.6062434423299412)"
      ]
     },
     "execution_count": 23,
     "metadata": {},
     "output_type": "execute_result"
    }
   ],
   "source": [
    "# Mean Squared Error\n",
    "tuned_mse = mean_squared_error(y_test, tuned_model_prediction)\n",
    "tuned_rmse = mean_squared_error(y_test, tuned_model_prediction, squared=False)\n",
    "tuned_mse, tuned_rmse"
   ]
  },
  {
   "cell_type": "markdown",
   "metadata": {},
   "source": [
    "### 5.3 Plot the history of the tuned model"
   ]
  },
  {
   "cell_type": "code",
   "execution_count": 24,
   "metadata": {
    "colab": {
     "base_uri": "https://localhost:8080/"
    },
    "execution": {
     "iopub.execute_input": "2023-02-04T14:40:23.733335Z",
     "iopub.status.busy": "2023-02-04T14:40:23.732794Z",
     "iopub.status.idle": "2023-02-04T14:40:23.983967Z",
     "shell.execute_reply": "2023-02-04T14:40:23.982472Z",
     "shell.execute_reply.started": "2023-02-04T14:40:23.733296Z"
    },
    "id": "8weMLlqcZMcG",
    "outputId": "86ea1eea-0f34-475e-e3cb-0ecce06925fd"
   },
   "outputs": [
    {
     "data": {
      "text/plain": [
       "<Axes: >"
      ]
     },
     "execution_count": 24,
     "metadata": {},
     "output_type": "execute_result"
    },
    {
     "data": {
      "image/png": "[encoded data removed]",
      "text/plain": [
       "<Figure size 640x480 with 1 Axes>"
      ]
     },
     "metadata": {},
     "output_type": "display_data"
    }
   ],
   "source": [
    "pd.DataFrame(tuned_history.history).plot()"
   ]
  },
  {
   "cell_type": "markdown",
   "metadata": {
    "id": "kl1DyVrnZMcH"
   },
   "source": [
    "**Observation**\n",
    "\n",
    "Base Model v/s Tuned Model\n",
    "+ MSE of Base Model: 2.075377642093114\n",
    "+ MSE of Tuned Model: 0.4981553588100721\n",
    "\n",
    "The tuned model is **much** better than the base model\n",
    "\n",
    "But can from the above plot `pd.DataFrame(tuned_history.history).plot()`, we can notice that the ther a lot of fluctuations going on.\n",
    "Our model could have come with a better result if it had stopped training at a certain point.\n",
    "\n",
    "We can achieve this by using callbacks, `EarlyStoppingCallback`. Let's try implementing this on the same model and see if there's any improvement or not."
   ]
  },
  {
   "cell_type": "markdown",
   "metadata": {
    "id": "I7izD2nbZMcH"
   },
   "source": [
    "# 6. Create a callback Model\n",
    "We will be replicating the same tuned model, but with callback."
   ]
  },
  {
   "cell_type": "markdown",
   "metadata": {},
   "source": [
    "### 6.1 Create a EarlyStopping()callback"
   ]
  },
  {
   "cell_type": "code",
   "execution_count": 25,
   "metadata": {
    "execution": {
     "iopub.execute_input": "2023-02-04T14:47:12.992029Z",
     "iopub.status.busy": "2023-02-04T14:47:12.991540Z",
     "iopub.status.idle": "2023-02-04T14:47:12.998934Z",
     "shell.execute_reply": "2023-02-04T14:47:12.997279Z",
     "shell.execute_reply.started": "2023-02-04T14:47:12.991993Z"
    },
    "id": "j27YGfd6ZMcI"
   },
   "outputs": [],
   "source": [
    "\n",
    "early_stopping = tf.keras.callbacks.EarlyStopping(\n",
    "    monitor=\"val_loss\",\n",
    "    min_delta=0.0001,\n",
    "    patience=20,\n",
    "    verbose=1,\n",
    "    mode=\"auto\",\n",
    "    baseline=None,\n",
    "    restore_best_weights=False,\n",
    ")"
   ]
  },
  {
   "cell_type": "markdown",
   "metadata": {},
   "source": [
    "### 6.2  Compile the same model and fit it with the callback"
   ]
  },
  {
   "cell_type": "code",
   "execution_count": 26,
   "metadata": {
    "colab": {
     "base_uri": "https://localhost:8080/"
    },
    "execution": {
     "iopub.execute_input": "2023-02-04T14:53:35.152125Z",
     "iopub.status.busy": "2023-02-04T14:53:35.151771Z",
     "iopub.status.idle": "2023-02-04T14:56:16.230660Z",
     "shell.execute_reply": "2023-02-04T14:56:16.229635Z",
     "shell.execute_reply.started": "2023-02-04T14:53:35.152096Z"
    },
    "id": "2p0pE1_GZMcI",
    "outputId": "555af082-f250-4297-fc09-989fc97b2f32"
   },
   "outputs": [
    {
     "name": "stdout",
     "output_type": "stream",
     "text": [
      "Epoch 1/100\n",
      "129/129 [==============================] - 5s 9ms/step - loss: 0.5728 - mean_absolute_error: 0.5728 - val_loss: 0.5044 - val_mean_absolute_error: 0.5044\n",
      "Epoch 2/100\n",
      "129/129 [==============================] - 1s 8ms/step - loss: 0.4792 - mean_absolute_error: 0.4792 - val_loss: 0.4272 - val_mean_absolute_error: 0.4272\n",
      "Epoch 3/100\n",
      "129/129 [==============================] - 1s 8ms/step - loss: 0.4450 - mean_absolute_error: 0.4450 - val_loss: 0.4292 - val_mean_absolute_error: 0.4292\n",
      "Epoch 4/100\n",
      "129/129 [==============================] - 1s 8ms/step - loss: 0.4784 - mean_absolute_error: 0.4784 - val_loss: 0.4236 - val_mean_absolute_error: 0.4236\n",
      "Epoch 5/100\n",
      "129/129 [==============================] - 1s 7ms/step - loss: 0.4435 - mean_absolute_error: 0.4435 - val_loss: 0.5786 - val_mean_absolute_error: 0.5786\n",
      "Epoch 6/100\n",
      "129/129 [==============================] - 1s 7ms/step - loss: 0.4290 - mean_absolute_error: 0.4290 - val_loss: 0.3852 - val_mean_absolute_error: 0.3852\n",
      "Epoch 7/100\n",
      "129/129 [==============================] - 1s 7ms/step - loss: 0.4147 - mean_absolute_error: 0.4147 - val_loss: 0.4008 - val_mean_absolute_error: 0.4008\n",
      "Epoch 8/100\n",
      "129/129 [==============================] - 1s 11ms/step - loss: 0.4219 - mean_absolute_error: 0.4219 - val_loss: 0.5044 - val_mean_absolute_error: 0.5044\n",
      "Epoch 9/100\n",
      "129/129 [==============================] - 1s 11ms/step - loss: 0.4099 - mean_absolute_error: 0.4099 - val_loss: 0.3665 - val_mean_absolute_error: 0.3665\n",
      "Epoch 10/100\n",
      "129/129 [==============================] - 1s 10ms/step - loss: 0.3979 - mean_absolute_error: 0.3979 - val_loss: 0.5297 - val_mean_absolute_error: 0.5297\n",
      "Epoch 11/100\n",
      "129/129 [==============================] - 1s 7ms/step - loss: 0.4010 - mean_absolute_error: 0.4010 - val_loss: 0.4286 - val_mean_absolute_error: 0.4286\n",
      "Epoch 12/100\n",
      "129/129 [==============================] - 1s 7ms/step - loss: 0.4240 - mean_absolute_error: 0.4240 - val_loss: 0.4284 - val_mean_absolute_error: 0.4284\n",
      "Epoch 13/100\n",
      "129/129 [==============================] - 1s 8ms/step - loss: 0.3941 - mean_absolute_error: 0.3941 - val_loss: 0.3746 - val_mean_absolute_error: 0.3746\n",
      "Epoch 14/100\n",
      "129/129 [==============================] - 1s 8ms/step - loss: 0.3784 - mean_absolute_error: 0.3784 - val_loss: 0.3667 - val_mean_absolute_error: 0.3667\n",
      "Epoch 15/100\n",
      "129/129 [==============================] - 1s 8ms/step - loss: 0.4279 - mean_absolute_error: 0.4279 - val_loss: 0.4006 - val_mean_absolute_error: 0.4006\n",
      "Epoch 16/100\n",
      "129/129 [==============================] - 1s 8ms/step - loss: 0.3802 - mean_absolute_error: 0.3802 - val_loss: 0.4395 - val_mean_absolute_error: 0.4395\n",
      "Epoch 17/100\n",
      "129/129 [==============================] - 1s 7ms/step - loss: 0.3894 - mean_absolute_error: 0.3894 - val_loss: 0.4518 - val_mean_absolute_error: 0.4518\n",
      "Epoch 18/100\n",
      "129/129 [==============================] - 1s 7ms/step - loss: 0.4369 - mean_absolute_error: 0.4369 - val_loss: 0.4119 - val_mean_absolute_error: 0.4119\n",
      "Epoch 19/100\n",
      "129/129 [==============================] - 1s 8ms/step - loss: 0.4055 - mean_absolute_error: 0.4055 - val_loss: 0.4762 - val_mean_absolute_error: 0.4762\n",
      "Epoch 20/100\n",
      "129/129 [==============================] - 1s 8ms/step - loss: 0.3705 - mean_absolute_error: 0.3705 - val_loss: 0.3602 - val_mean_absolute_error: 0.3602\n",
      "Epoch 21/100\n",
      "129/129 [==============================] - 1s 10ms/step - loss: 0.3475 - mean_absolute_error: 0.3475 - val_loss: 0.3774 - val_mean_absolute_error: 0.3774\n",
      "Epoch 22/100\n",
      "129/129 [==============================] - 1s 11ms/step - loss: 0.3627 - mean_absolute_error: 0.3627 - val_loss: 0.4129 - val_mean_absolute_error: 0.4129\n",
      "Epoch 23/100\n",
      "129/129 [==============================] - 1s 8ms/step - loss: 0.3579 - mean_absolute_error: 0.3579 - val_loss: 0.3928 - val_mean_absolute_error: 0.3928\n",
      "Epoch 24/100\n",
      "129/129 [==============================] - 1s 7ms/step - loss: 0.3710 - mean_absolute_error: 0.3710 - val_loss: 0.3571 - val_mean_absolute_error: 0.3571\n",
      "Epoch 25/100\n",
      "129/129 [==============================] - 1s 8ms/step - loss: 0.3380 - mean_absolute_error: 0.3380 - val_loss: 0.3693 - val_mean_absolute_error: 0.3693\n",
      "Epoch 26/100\n",
      "129/129 [==============================] - 1s 7ms/step - loss: 0.3636 - mean_absolute_error: 0.3636 - val_loss: 0.4465 - val_mean_absolute_error: 0.4465\n",
      "Epoch 27/100\n",
      "129/129 [==============================] - 1s 7ms/step - loss: 0.4290 - mean_absolute_error: 0.4290 - val_loss: 0.4531 - val_mean_absolute_error: 0.4531\n",
      "Epoch 28/100\n",
      "129/129 [==============================] - 1s 7ms/step - loss: 0.4012 - mean_absolute_error: 0.4012 - val_loss: 0.4670 - val_mean_absolute_error: 0.4670\n",
      "Epoch 29/100\n",
      "129/129 [==============================] - 1s 8ms/step - loss: 0.4506 - mean_absolute_error: 0.4506 - val_loss: 0.4048 - val_mean_absolute_error: 0.4048\n",
      "Epoch 30/100\n",
      "129/129 [==============================] - 1s 7ms/step - loss: 0.3802 - mean_absolute_error: 0.3802 - val_loss: 0.3717 - val_mean_absolute_error: 0.3717\n",
      "Epoch 31/100\n",
      "129/129 [==============================] - 1s 7ms/step - loss: 0.3425 - mean_absolute_error: 0.3425 - val_loss: 0.3351 - val_mean_absolute_error: 0.3351\n",
      "Epoch 32/100\n",
      "129/129 [==============================] - 1s 7ms/step - loss: 0.3151 - mean_absolute_error: 0.3151 - val_loss: 0.3727 - val_mean_absolute_error: 0.3727\n",
      "Epoch 33/100\n",
      "129/129 [==============================] - 1s 8ms/step - loss: 0.3037 - mean_absolute_error: 0.3037 - val_loss: 0.3835 - val_mean_absolute_error: 0.3835\n",
      "Epoch 34/100\n",
      "129/129 [==============================] - 1s 11ms/step - loss: 0.2998 - mean_absolute_error: 0.2998 - val_loss: 0.3406 - val_mean_absolute_error: 0.3406\n",
      "Epoch 35/100\n",
      "129/129 [==============================] - 1s 10ms/step - loss: 0.3660 - mean_absolute_error: 0.3660 - val_loss: 0.3484 - val_mean_absolute_error: 0.3484\n",
      "Epoch 36/100\n",
      "129/129 [==============================] - 1s 9ms/step - loss: 0.3275 - mean_absolute_error: 0.3275 - val_loss: 0.3662 - val_mean_absolute_error: 0.3662\n",
      "Epoch 37/100\n",
      "129/129 [==============================] - 1s 7ms/step - loss: 0.3112 - mean_absolute_error: 0.3112 - val_loss: 0.3455 - val_mean_absolute_error: 0.3455\n",
      "Epoch 38/100\n",
      "129/129 [==============================] - 1s 8ms/step - loss: 0.3077 - mean_absolute_error: 0.3077 - val_loss: 0.3633 - val_mean_absolute_error: 0.3633\n",
      "Epoch 39/100\n",
      "129/129 [==============================] - 1s 8ms/step - loss: 0.3279 - mean_absolute_error: 0.3279 - val_loss: 0.3597 - val_mean_absolute_error: 0.3597\n",
      "Epoch 40/100\n",
      "129/129 [==============================] - 1s 7ms/step - loss: 0.3243 - mean_absolute_error: 0.3243 - val_loss: 0.4368 - val_mean_absolute_error: 0.4368\n",
      "Epoch 41/100\n",
      "129/129 [==============================] - 1s 7ms/step - loss: 0.3283 - mean_absolute_error: 0.3283 - val_loss: 0.4395 - val_mean_absolute_error: 0.4395\n",
      "Epoch 42/100\n",
      "129/129 [==============================] - 1s 7ms/step - loss: 0.3098 - mean_absolute_error: 0.3098 - val_loss: 0.3272 - val_mean_absolute_error: 0.3272\n",
      "Epoch 43/100\n",
      "129/129 [==============================] - 1s 8ms/step - loss: 0.3687 - mean_absolute_error: 0.3687 - val_loss: 0.4352 - val_mean_absolute_error: 0.4352\n",
      "Epoch 44/100\n",
      "129/129 [==============================] - 1s 7ms/step - loss: 0.3338 - mean_absolute_error: 0.3338 - val_loss: 0.3768 - val_mean_absolute_error: 0.3768\n",
      "Epoch 45/100\n",
      "129/129 [==============================] - 1s 8ms/step - loss: 0.3334 - mean_absolute_error: 0.3334 - val_loss: 0.3391 - val_mean_absolute_error: 0.3391\n",
      "Epoch 46/100\n",
      "129/129 [==============================] - 1s 9ms/step - loss: 0.3097 - mean_absolute_error: 0.3097 - val_loss: 0.3308 - val_mean_absolute_error: 0.3308\n",
      "Epoch 47/100\n",
      "129/129 [==============================] - 1s 10ms/step - loss: 0.3308 - mean_absolute_error: 0.3308 - val_loss: 0.3522 - val_mean_absolute_error: 0.3522\n",
      "Epoch 48/100\n",
      "129/129 [==============================] - 1s 10ms/step - loss: 0.3246 - mean_absolute_error: 0.3246 - val_loss: 0.3312 - val_mean_absolute_error: 0.3312\n",
      "Epoch 49/100\n",
      "129/129 [==============================] - 1s 8ms/step - loss: 0.3116 - mean_absolute_error: 0.3116 - val_loss: 0.3308 - val_mean_absolute_error: 0.3308\n",
      "Epoch 50/100\n",
      "129/129 [==============================] - 1s 7ms/step - loss: 0.3161 - mean_absolute_error: 0.3161 - val_loss: 0.3085 - val_mean_absolute_error: 0.3085\n",
      "Epoch 51/100\n",
      "129/129 [==============================] - 1s 7ms/step - loss: 0.3028 - mean_absolute_error: 0.3028 - val_loss: 0.3933 - val_mean_absolute_error: 0.3933\n",
      "Epoch 52/100\n",
      "129/129 [==============================] - 1s 10ms/step - loss: 0.3150 - mean_absolute_error: 0.3150 - val_loss: 0.3356 - val_mean_absolute_error: 0.3356\n",
      "Epoch 53/100\n",
      "129/129 [==============================] - 2s 13ms/step - loss: 0.3248 - mean_absolute_error: 0.3248 - val_loss: 0.4112 - val_mean_absolute_error: 0.4112\n",
      "Epoch 54/100\n",
      "129/129 [==============================] - 1s 8ms/step - loss: 0.3270 - mean_absolute_error: 0.3270 - val_loss: 0.3739 - val_mean_absolute_error: 0.3739\n",
      "Epoch 55/100\n",
      "129/129 [==============================] - 1s 8ms/step - loss: 0.3105 - mean_absolute_error: 0.3105 - val_loss: 0.3546 - val_mean_absolute_error: 0.3546\n",
      "Epoch 56/100\n",
      "129/129 [==============================] - 1s 7ms/step - loss: 0.3292 - mean_absolute_error: 0.3292 - val_loss: 0.3413 - val_mean_absolute_error: 0.3413\n",
      "Epoch 57/100\n",
      "129/129 [==============================] - 1s 8ms/step - loss: 0.3235 - mean_absolute_error: 0.3235 - val_loss: 0.3396 - val_mean_absolute_error: 0.3396\n",
      "Epoch 58/100\n",
      "129/129 [==============================] - 1s 8ms/step - loss: 0.3180 - mean_absolute_error: 0.3180 - val_loss: 0.3117 - val_mean_absolute_error: 0.3117\n",
      "Epoch 59/100\n",
      "129/129 [==============================] - 1s 11ms/step - loss: 0.3527 - mean_absolute_error: 0.3527 - val_loss: 0.3444 - val_mean_absolute_error: 0.3444\n",
      "Epoch 60/100\n",
      "129/129 [==============================] - 1s 11ms/step - loss: 0.3446 - mean_absolute_error: 0.3446 - val_loss: 0.4424 - val_mean_absolute_error: 0.4424\n",
      "Epoch 61/100\n",
      "129/129 [==============================] - 1s 8ms/step - loss: 0.3351 - mean_absolute_error: 0.3351 - val_loss: 0.3759 - val_mean_absolute_error: 0.3759\n",
      "Epoch 62/100\n",
      "129/129 [==============================] - 1s 8ms/step - loss: 0.3184 - mean_absolute_error: 0.3184 - val_loss: 0.2719 - val_mean_absolute_error: 0.2719\n",
      "Epoch 63/100\n",
      "129/129 [==============================] - 1s 8ms/step - loss: 0.2620 - mean_absolute_error: 0.2620 - val_loss: 0.2984 - val_mean_absolute_error: 0.2984\n",
      "Epoch 64/100\n",
      "129/129 [==============================] - 1s 7ms/step - loss: 0.2793 - mean_absolute_error: 0.2793 - val_loss: 0.3579 - val_mean_absolute_error: 0.3579\n",
      "Epoch 65/100\n",
      "129/129 [==============================] - 1s 7ms/step - loss: 0.2782 - mean_absolute_error: 0.2782 - val_loss: 0.3356 - val_mean_absolute_error: 0.3356\n",
      "Epoch 66/100\n",
      "129/129 [==============================] - 1s 7ms/step - loss: 0.3123 - mean_absolute_error: 0.3123 - val_loss: 0.3547 - val_mean_absolute_error: 0.3547\n",
      "Epoch 67/100\n",
      "129/129 [==============================] - 1s 7ms/step - loss: 0.2902 - mean_absolute_error: 0.2902 - val_loss: 0.2841 - val_mean_absolute_error: 0.2841\n",
      "Epoch 68/100\n",
      "129/129 [==============================] - 1s 7ms/step - loss: 0.2808 - mean_absolute_error: 0.2808 - val_loss: 0.3520 - val_mean_absolute_error: 0.3520\n",
      "Epoch 69/100\n",
      "129/129 [==============================] - 1s 8ms/step - loss: 0.2906 - mean_absolute_error: 0.2906 - val_loss: 0.3170 - val_mean_absolute_error: 0.3170\n",
      "Epoch 70/100\n",
      "129/129 [==============================] - 1s 8ms/step - loss: 0.3045 - mean_absolute_error: 0.3045 - val_loss: 0.3276 - val_mean_absolute_error: 0.3276\n",
      "Epoch 71/100\n",
      "129/129 [==============================] - 1s 9ms/step - loss: 0.2873 - mean_absolute_error: 0.2873 - val_loss: 0.2650 - val_mean_absolute_error: 0.2650\n",
      "Epoch 72/100\n",
      "129/129 [==============================] - 1s 10ms/step - loss: 0.2708 - mean_absolute_error: 0.2708 - val_loss: 0.2797 - val_mean_absolute_error: 0.2797\n",
      "Epoch 73/100\n",
      "129/129 [==============================] - 1s 10ms/step - loss: 0.3115 - mean_absolute_error: 0.3115 - val_loss: 0.4544 - val_mean_absolute_error: 0.4544\n",
      "Epoch 74/100\n",
      "129/129 [==============================] - 1s 9ms/step - loss: 0.3701 - mean_absolute_error: 0.3701 - val_loss: 0.3475 - val_mean_absolute_error: 0.3475\n",
      "Epoch 75/100\n",
      "129/129 [==============================] - 1s 7ms/step - loss: 0.3384 - mean_absolute_error: 0.3384 - val_loss: 0.3270 - val_mean_absolute_error: 0.3270\n",
      "Epoch 76/100\n",
      "129/129 [==============================] - 1s 8ms/step - loss: 0.2958 - mean_absolute_error: 0.2958 - val_loss: 0.3073 - val_mean_absolute_error: 0.3073\n",
      "Epoch 77/100\n",
      "129/129 [==============================] - 1s 8ms/step - loss: 0.2633 - mean_absolute_error: 0.2633 - val_loss: 0.3457 - val_mean_absolute_error: 0.3457\n",
      "Epoch 78/100\n",
      "129/129 [==============================] - 1s 8ms/step - loss: 0.2919 - mean_absolute_error: 0.2919 - val_loss: 0.3048 - val_mean_absolute_error: 0.3048\n",
      "Epoch 79/100\n",
      "129/129 [==============================] - 1s 8ms/step - loss: 0.2554 - mean_absolute_error: 0.2554 - val_loss: 0.3287 - val_mean_absolute_error: 0.3287\n",
      "Epoch 80/100\n",
      "129/129 [==============================] - 1s 7ms/step - loss: 0.2257 - mean_absolute_error: 0.2257 - val_loss: 0.2882 - val_mean_absolute_error: 0.2882\n",
      "Epoch 81/100\n",
      "129/129 [==============================] - 1s 8ms/step - loss: 0.2839 - mean_absolute_error: 0.2839 - val_loss: 0.2898 - val_mean_absolute_error: 0.2898\n",
      "Epoch 82/100\n",
      "129/129 [==============================] - 1s 7ms/step - loss: 0.3323 - mean_absolute_error: 0.3323 - val_loss: 0.3466 - val_mean_absolute_error: 0.3466\n",
      "Epoch 83/100\n",
      "129/129 [==============================] - 1s 8ms/step - loss: 0.2794 - mean_absolute_error: 0.2794 - val_loss: 0.3117 - val_mean_absolute_error: 0.3117\n",
      "Epoch 84/100\n",
      "129/129 [==============================] - 1s 10ms/step - loss: 0.3148 - mean_absolute_error: 0.3148 - val_loss: 0.3235 - val_mean_absolute_error: 0.3235\n",
      "Epoch 85/100\n",
      "129/129 [==============================] - 1s 11ms/step - loss: 0.2999 - mean_absolute_error: 0.2999 - val_loss: 0.3597 - val_mean_absolute_error: 0.3597\n",
      "Epoch 86/100\n",
      "129/129 [==============================] - 1s 10ms/step - loss: 0.3323 - mean_absolute_error: 0.3323 - val_loss: 0.3385 - val_mean_absolute_error: 0.3385\n",
      "Epoch 87/100\n",
      "129/129 [==============================] - 1s 7ms/step - loss: 0.2729 - mean_absolute_error: 0.2729 - val_loss: 0.2933 - val_mean_absolute_error: 0.2933\n",
      "Epoch 88/100\n",
      "129/129 [==============================] - 1s 7ms/step - loss: 0.2718 - mean_absolute_error: 0.2718 - val_loss: 0.2933 - val_mean_absolute_error: 0.2933\n",
      "Epoch 89/100\n",
      "129/129 [==============================] - 1s 8ms/step - loss: 0.2396 - mean_absolute_error: 0.2396 - val_loss: 0.2556 - val_mean_absolute_error: 0.2556\n",
      "Epoch 90/100\n",
      "129/129 [==============================] - 1s 8ms/step - loss: 0.2604 - mean_absolute_error: 0.2604 - val_loss: 0.2880 - val_mean_absolute_error: 0.2880\n",
      "Epoch 91/100\n",
      "129/129 [==============================] - 1s 8ms/step - loss: 0.3633 - mean_absolute_error: 0.3633 - val_loss: 0.3445 - val_mean_absolute_error: 0.3445\n",
      "Epoch 92/100\n",
      "129/129 [==============================] - 1s 7ms/step - loss: 0.3187 - mean_absolute_error: 0.3187 - val_loss: 0.3666 - val_mean_absolute_error: 0.3666\n",
      "Epoch 93/100\n",
      "129/129 [==============================] - 1s 7ms/step - loss: 0.3152 - mean_absolute_error: 0.3152 - val_loss: 0.3540 - val_mean_absolute_error: 0.3540\n",
      "Epoch 94/100\n",
      "129/129 [==============================] - 1s 7ms/step - loss: 0.3161 - mean_absolute_error: 0.3161 - val_loss: 0.3576 - val_mean_absolute_error: 0.3576\n",
      "Epoch 95/100\n",
      "129/129 [==============================] - 1s 7ms/step - loss: 0.2947 - mean_absolute_error: 0.2947 - val_loss: 0.3902 - val_mean_absolute_error: 0.3902\n",
      "Epoch 96/100\n",
      "129/129 [==============================] - 1s 8ms/step - loss: 0.2889 - mean_absolute_error: 0.2889 - val_loss: 0.3924 - val_mean_absolute_error: 0.3924\n",
      "Epoch 97/100\n",
      "129/129 [==============================] - 1s 10ms/step - loss: 0.3261 - mean_absolute_error: 0.3261 - val_loss: 0.3486 - val_mean_absolute_error: 0.3486\n",
      "Epoch 98/100\n",
      "129/129 [==============================] - 1s 10ms/step - loss: 0.3039 - mean_absolute_error: 0.3039 - val_loss: 0.3648 - val_mean_absolute_error: 0.3648\n",
      "Epoch 99/100\n",
      "129/129 [==============================] - 1s 10ms/step - loss: 0.2877 - mean_absolute_error: 0.2877 - val_loss: 0.3005 - val_mean_absolute_error: 0.3005\n",
      "Epoch 100/100\n",
      "129/129 [==============================] - 1s 8ms/step - loss: 0.2778 - mean_absolute_error: 0.2778 - val_loss: 0.3159 - val_mean_absolute_error: 0.3159\n"
     ]
    }
   ],
   "source": [
    "tuned_model.compile(loss=\"mean_absolute_error\",\n",
    "                                      optimizer=tf.keras.optimizers.Adam(),\n",
    "                                      metrics=[\"mean_absolute_error\"])\n",
    "\n",
    "tuned_model2_history = tuned_model.fit(x_train, y_train,\n",
    "                                      epochs=100,validation_split=0.2,callbacks=[early_stopping])"
   ]
  },
  {
   "cell_type": "markdown",
   "metadata": {
    "id": "F7cjuIHuZMcJ"
   },
   "source": [
    "The model stopped at **90 Epochs**. Let's evaluate it on the test data."
   ]
  },
  {
   "cell_type": "markdown",
   "metadata": {
    "id": "iIpk7yq2ZMcJ"
   },
   "source": [
    "### 6.3 Test and evaluate the tuned model with callbacks"
   ]
  },
  {
   "cell_type": "code",
   "execution_count": 27,
   "metadata": {
    "colab": {
     "base_uri": "https://localhost:8080/"
    },
    "execution": {
     "iopub.execute_input": "2023-02-04T14:57:46.838277Z",
     "iopub.status.busy": "2023-02-04T14:57:46.837915Z",
     "iopub.status.idle": "2023-02-04T14:57:58.251957Z",
     "shell.execute_reply": "2023-02-04T14:57:58.250492Z",
     "shell.execute_reply.started": "2023-02-04T14:57:46.838247Z"
    },
    "id": "fVsberfTZMcK",
    "outputId": "82bc8bc7-11d1-4d48-b04e-281f6d4f5151"
   },
   "outputs": [
    {
     "name": "stdout",
     "output_type": "stream",
     "text": [
      "41/41 [==============================] - 0s 2ms/step\n"
     ]
    },
    {
     "data": {
      "text/plain": [
       "array([[13.1226845],\n",
       "       [ 8.413308 ],\n",
       "       [ 6.260011 ],\n",
       "       ...,\n",
       "       [ 8.436309 ],\n",
       "       [ 6.8292437],\n",
       "       [ 6.108297 ]], dtype=float32)"
      ]
     },
     "execution_count": 27,
     "metadata": {},
     "output_type": "execute_result"
    }
   ],
   "source": [
    "# Predictions for tuned model with callback\n",
    "tuned_model2_prediction=tuned_model.predict(x_test)\n",
    "tuned_model2_prediction"
   ]
  },
  {
   "cell_type": "code",
   "execution_count": 28,
   "metadata": {
    "colab": {
     "base_uri": "https://localhost:8080/"
    },
    "execution": {
     "iopub.execute_input": "2023-02-04T14:58:33.309323Z",
     "iopub.status.busy": "2023-02-04T14:58:33.308989Z",
     "iopub.status.idle": "2023-02-04T14:58:33.318582Z",
     "shell.execute_reply": "2023-02-04T14:58:33.317239Z",
     "shell.execute_reply.started": "2023-02-04T14:58:33.309298Z"
    },
    "id": "bOsxhi9CZMcK",
    "outputId": "af1d941e-34fa-43e7-b6b9-ce2a11d7e72a"
   },
   "outputs": [
    {
     "data": {
      "text/plain": [
       "(0.37396890461977134, 0.6115299703365088)"
      ]
     },
     "execution_count": 28,
     "metadata": {},
     "output_type": "execute_result"
    }
   ],
   "source": [
    "tuned_mse2 = mean_squared_error(y_test, tuned_model2_prediction)\n",
    "tuned_rmse2 = mean_squared_error(y_test, tuned_model2_prediction, squared=False)\n",
    "tuned_mse2, tuned_rmse2"
   ]
  },
  {
   "cell_type": "markdown",
   "metadata": {
    "id": "eYh6TGqlZMcL"
   },
   "source": [
    "# 7. Conclusion\n",
    "+ **Base Model**\n",
    "    + MSE: 2.075377642093114\n",
    "    + RMSE : 1.44061710460938\n",
    "+ **Tuned Model**\n",
    "    + MSE: 0.4981553588100721\n",
    "    + RMSE : 0.7058012176314745\n",
    "+ **Tuned Model with Callback**\n",
    "    + MSE: 0.38007333944919647\n",
    "    + RMSE : 0.6165008835753575\n",
    "    \n",
    "Hence with **Keras Tuner** and **Callbacks** we can improve our model rather than just trying randomly tuning hyperparameters xD"
   ]
  }
 ],
 "metadata": {
  "accelerator": "GPU",
  "colab": {
   "gpuType": "T4",
   "provenance": []
  },
  "kernelspec": {
   "display_name": "Python 3 (ipykernel)",
   "language": "python",
   "name": "python3"
  },
  "language_info": {
   "codemirror_mode": {
    "name": "ipython",
    "version": 3
   },
   "file_extension": ".py",
   "mimetype": "text/x-python",
   "name": "python",
   "nbconvert_exporter": "python",
   "pygments_lexer": "ipython3",
   "version": "3.7.0"
  }
 },
 "nbformat": 4,
 "nbformat_minor": 1
}
